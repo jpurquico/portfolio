{
 "cells": [
  {
   "cell_type": "markdown",
   "metadata": {},
   "source": [
    "## Collecting Yelp Reviews"
   ]
  },
  {
   "cell_type": "code",
   "execution_count": 13,
   "metadata": {},
   "outputs": [],
   "source": [
    "from bs4 import BeautifulSoup\n",
    "import requests\n",
    "import pandas as pd\n",
    "import json\n",
    "import re\n",
    "import time"
   ]
  },
  {
   "cell_type": "code",
   "execution_count": 14,
   "metadata": {},
   "outputs": [],
   "source": [
    "headers = {'User-Agent':'Mozilla/5.0 (Macintosh; Intel Mac OS X 10_11_2) AppleWebKit/601.3.9 (KHTML, like Gecko) Version/9.0.2 Safari/601.3.9'}\n",
    "start_page = 420\n",
    "#url=\"https://www.yelp.ca/biz/meet-on-main-vancouver?start=\"+str(start_page)+\"&sort_by=date_desc\"\n",
    "url = \"https://www.yelp.ca/biz/meet-on-main-vancouver?\"\n",
    "response = requests.get(url, headers=headers)"
   ]
  },
  {
   "cell_type": "code",
   "execution_count": 15,
   "metadata": {},
   "outputs": [],
   "source": [
    "content = response.content\n",
    "soup = BeautifulSoup(content,\"lxml\")"
   ]
  },
  {
   "cell_type": "code",
   "execution_count": 16,
   "metadata": {},
   "outputs": [
    {
     "data": {
      "text/plain": [
       "{'author': 'Tyson L.',\n",
       " 'datePublished': '2021-06-26',\n",
       " 'reviewRating': {'ratingValue': 5},\n",
       " 'description': 'Rarely will you find MeeT empty -- an arbitrary indicator of popularity if you care about that -- as the vegan food is of high quality with solid portions. \\n\\nAfter multiple visits, some with Vegans, others with the &quot;oh but you need animal protein to survive cohort&quot;, 90% of guests would recommend the restaurant for its all-inclusive, varying menu.\\n\\nMy test for a good restaurant is whether I could replicate the dishes and/or be willing to create the dishes, and I could not with the same flavors.\\n\\nPersonally a big fan of the Macro bowl or the Meet burger, but most friends are content with the selection of poutines and the Mighty Mac.\\n\\nGood quality food is good quality food, and whether you&apos;re vegan or not you will be satisfied'}"
      ]
     },
     "execution_count": 16,
     "metadata": {},
     "output_type": "execute_result"
    }
   ],
   "source": [
    "reviews = json.loads(soup.find('script', type='application/ld+json').string)['review']\n",
    "reviews[0]"
   ]
  },
  {
   "cell_type": "code",
   "execution_count": 55,
   "metadata": {},
   "outputs": [
    {
     "data": {
      "text/plain": [
       "'Rarely will you find MeeT empty -- an arbitrary indicator of popularity if you care about that -- as the vegan food is of high quality with solid portions. \\n\\nAfter multiple visits, some with Vegans, others with the &quot;oh but you need animal protein to survive cohort&quot;, 90% of guests would recommend the restaurant for its all-inclusive, varying menu.\\n\\nMy test for a good restaurant is whether I could replicate the dishes and/or be willing to create the dishes, and I could not with the same flavors.\\n\\nPersonally a big fan of the Macro bowl or the Meet burger, but most friends are content with the selection of poutines and the Mighty Mac.\\n\\nGood quality food is good quality food, and whether you&apos;re vegan or not you will be satisfied'"
      ]
     },
     "execution_count": 55,
     "metadata": {},
     "output_type": "execute_result"
    }
   ],
   "source": [
    "sample_rev = reviews[0]['description']\n",
    "sample_rev"
   ]
  },
  {
   "cell_type": "code",
   "execution_count": 2,
   "metadata": {},
   "outputs": [],
   "source": [
    "regex = r'&.{4};'\n",
    "unwanted = set()\n",
    "punc = '''!()-[]{};:'\"\\,<>./?@#$^&*_~'''"
   ]
  },
  {
   "cell_type": "code",
   "execution_count": 3,
   "metadata": {},
   "outputs": [
    {
     "ename": "NameError",
     "evalue": "name 'sample_rev' is not defined",
     "output_type": "error",
     "traceback": [
      "\u001b[1;31m---------------------------------------------------------------------------\u001b[0m",
      "\u001b[1;31mNameError\u001b[0m                                 Traceback (most recent call last)",
      "\u001b[1;32m<ipython-input-3-d0e930d1efbb>\u001b[0m in \u001b[0;36m<module>\u001b[1;34m\u001b[0m\n\u001b[1;32m----> 1\u001b[1;33m \u001b[1;32mfor\u001b[0m \u001b[0mi\u001b[0m \u001b[1;32min\u001b[0m \u001b[0mre\u001b[0m\u001b[1;33m.\u001b[0m\u001b[0mfinditer\u001b[0m\u001b[1;33m(\u001b[0m\u001b[0mregex\u001b[0m\u001b[1;33m,\u001b[0m \u001b[0msample_rev\u001b[0m\u001b[1;33m)\u001b[0m\u001b[1;33m:\u001b[0m\u001b[1;33m\u001b[0m\u001b[1;33m\u001b[0m\u001b[0m\n\u001b[0m\u001b[0;32m      2\u001b[0m     \u001b[0munwanted\u001b[0m\u001b[1;33m.\u001b[0m\u001b[0madd\u001b[0m\u001b[1;33m(\u001b[0m\u001b[0mi\u001b[0m\u001b[1;33m.\u001b[0m\u001b[0mgroup\u001b[0m\u001b[1;33m(\u001b[0m\u001b[1;33m)\u001b[0m\u001b[1;33m)\u001b[0m\u001b[1;33m\u001b[0m\u001b[1;33m\u001b[0m\u001b[0m\n",
      "\u001b[1;31mNameError\u001b[0m: name 'sample_rev' is not defined"
     ]
    }
   ],
   "source": [
    "for i in re.finditer(regex, sample_rev):\n",
    "    unwanted.add(i.group())"
   ]
  },
  {
   "cell_type": "code",
   "execution_count": 4,
   "metadata": {},
   "outputs": [],
   "source": [
    "def clean_sent(text):\n",
    "    cleaned = []\n",
    "    for word in text.split():\n",
    "        if not word.isalpha():\n",
    "            for unwanted_string in unwanted:\n",
    "                if unwanted_string in word:\n",
    "                    word = word.replace(unwanted_string, \"\")\n",
    "            word = word.strip(punc)\n",
    "            cleaned.append(word)\n",
    "        else:\n",
    "            cleaned.append(word)\n",
    "    \n",
    "    return \" \".join(cleaned)"
   ]
  },
  {
   "cell_type": "code",
   "execution_count": 58,
   "metadata": {},
   "outputs": [
    {
     "data": {
      "text/plain": [
       "'Rarely will you find MeeT empty  an arbitrary indicator of popularity if you care about that  as the vegan food is of high quality with solid portions After multiple visits some with Vegans others with the oh but you need animal protein to survive cohort 90% of guests would recommend the restaurant for its all-inclusive varying menu My test for a good restaurant is whether I could replicate the dishes and/or be willing to create the dishes and I could not with the same flavors Personally a big fan of the Macro bowl or the Meet burger but most friends are content with the selection of poutines and the Mighty Mac Good quality food is good quality food and whether youre vegan or not you will be satisfied'"
      ]
     },
     "execution_count": 58,
     "metadata": {},
     "output_type": "execute_result"
    }
   ],
   "source": [
    "clean_sent(sample_rev)"
   ]
  },
  {
   "cell_type": "code",
   "execution_count": 32,
   "metadata": {},
   "outputs": [],
   "source": [
    "def get_rating(rating_dict):\n",
    "    return rating_dict['ratingValue']"
   ]
  },
  {
   "cell_type": "code",
   "execution_count": 60,
   "metadata": {},
   "outputs": [
    {
     "data": {
      "text/html": [
       "<div>\n",
       "<style scoped>\n",
       "    .dataframe tbody tr th:only-of-type {\n",
       "        vertical-align: middle;\n",
       "    }\n",
       "\n",
       "    .dataframe tbody tr th {\n",
       "        vertical-align: top;\n",
       "    }\n",
       "\n",
       "    .dataframe thead th {\n",
       "        text-align: right;\n",
       "    }\n",
       "</style>\n",
       "<table border=\"1\" class=\"dataframe\">\n",
       "  <thead>\n",
       "    <tr style=\"text-align: right;\">\n",
       "      <th></th>\n",
       "      <th>author</th>\n",
       "      <th>datePublished</th>\n",
       "      <th>reviewRating</th>\n",
       "      <th>description</th>\n",
       "    </tr>\n",
       "  </thead>\n",
       "  <tbody>\n",
       "    <tr>\n",
       "      <th>0</th>\n",
       "      <td>Tyson L.</td>\n",
       "      <td>2021-06-26</td>\n",
       "      <td>5</td>\n",
       "      <td>Rarely will you find MeeT empty  an arbitrary ...</td>\n",
       "    </tr>\n",
       "    <tr>\n",
       "      <th>1</th>\n",
       "      <td>Melissa E.</td>\n",
       "      <td>2021-10-09</td>\n",
       "      <td>4</td>\n",
       "      <td>Im not a vegan but I love trying innovative ve...</td>\n",
       "    </tr>\n",
       "    <tr>\n",
       "      <th>2</th>\n",
       "      <td>Matt B.</td>\n",
       "      <td>2021-07-30</td>\n",
       "      <td>4</td>\n",
       "      <td>Im much more sold on this place nowadays I ord...</td>\n",
       "    </tr>\n",
       "    <tr>\n",
       "      <th>3</th>\n",
       "      <td>Jill N.</td>\n",
       "      <td>2021-03-18</td>\n",
       "      <td>5</td>\n",
       "      <td>Went here for St Patties Day Our server Derek ...</td>\n",
       "    </tr>\n",
       "    <tr>\n",
       "      <th>4</th>\n",
       "      <td>Maling S.</td>\n",
       "      <td>2020-09-17</td>\n",
       "      <td>5</td>\n",
       "      <td>Sept 17 and went with my brother for vegan foo...</td>\n",
       "    </tr>\n",
       "    <tr>\n",
       "      <th>5</th>\n",
       "      <td>Dana S.</td>\n",
       "      <td>2021-02-18</td>\n",
       "      <td>5</td>\n",
       "      <td>Ive ordered takeout from the Yaletown location...</td>\n",
       "    </tr>\n",
       "    <tr>\n",
       "      <th>6</th>\n",
       "      <td>Michelle H.</td>\n",
       "      <td>2020-05-08</td>\n",
       "      <td>4</td>\n",
       "      <td>I havent had this is YEARS I used to be SO obs...</td>\n",
       "    </tr>\n",
       "    <tr>\n",
       "      <th>7</th>\n",
       "      <td>Jasmine Y.</td>\n",
       "      <td>2021-09-15</td>\n",
       "      <td>5</td>\n",
       "      <td>Ordered takeout online to the Main Street loca...</td>\n",
       "    </tr>\n",
       "    <tr>\n",
       "      <th>8</th>\n",
       "      <td>Aaron W.</td>\n",
       "      <td>2021-05-24</td>\n",
       "      <td>1</td>\n",
       "      <td>Saw 3 patio tables empty and barely any line u...</td>\n",
       "    </tr>\n",
       "    <tr>\n",
       "      <th>9</th>\n",
       "      <td>Jennifer B.</td>\n",
       "      <td>2020-03-12</td>\n",
       "      <td>5</td>\n",
       "      <td>Love the MeeT restaurants in Vancouver Ive eat...</td>\n",
       "    </tr>\n",
       "    <tr>\n",
       "      <th>10</th>\n",
       "      <td>Purple Z.</td>\n",
       "      <td>2021-08-10</td>\n",
       "      <td>5</td>\n",
       "      <td>Ive been a couple times to the restaurant in G...</td>\n",
       "    </tr>\n",
       "    <tr>\n",
       "      <th>11</th>\n",
       "      <td>Niall O.</td>\n",
       "      <td>2021-09-29</td>\n",
       "      <td>3</td>\n",
       "      <td>The staff all seemed really nice and their was...</td>\n",
       "    </tr>\n",
       "    <tr>\n",
       "      <th>12</th>\n",
       "      <td>Chloe C.</td>\n",
       "      <td>2020-09-11</td>\n",
       "      <td>5</td>\n",
       "      <td>I probably wont be dining out as often since s...</td>\n",
       "    </tr>\n",
       "    <tr>\n",
       "      <th>13</th>\n",
       "      <td>John R.</td>\n",
       "      <td>2021-02-02</td>\n",
       "      <td>3</td>\n",
       "      <td>I used love MeeT on Main I order MeeT via door...</td>\n",
       "    </tr>\n",
       "    <tr>\n",
       "      <th>14</th>\n",
       "      <td>Norman S.</td>\n",
       "      <td>2020-02-25</td>\n",
       "      <td>4</td>\n",
       "      <td>Never thought vegetarian food could taste this...</td>\n",
       "    </tr>\n",
       "    <tr>\n",
       "      <th>15</th>\n",
       "      <td>Elsa C.</td>\n",
       "      <td>2020-01-31</td>\n",
       "      <td>3</td>\n",
       "      <td>It was a rainy Friday in January A group of 8 ...</td>\n",
       "    </tr>\n",
       "    <tr>\n",
       "      <th>16</th>\n",
       "      <td>Chef D.</td>\n",
       "      <td>2020-09-24</td>\n",
       "      <td>4</td>\n",
       "      <td>This spot always serves up the yummiest vegan ...</td>\n",
       "    </tr>\n",
       "    <tr>\n",
       "      <th>17</th>\n",
       "      <td>Patrick F.</td>\n",
       "      <td>2021-01-27</td>\n",
       "      <td>5</td>\n",
       "      <td>A great selection of Vegan food The sweet chil...</td>\n",
       "    </tr>\n",
       "    <tr>\n",
       "      <th>18</th>\n",
       "      <td>Autumn M.</td>\n",
       "      <td>2021-04-08</td>\n",
       "      <td>5</td>\n",
       "      <td>Its taken me way too long to review this place...</td>\n",
       "    </tr>\n",
       "    <tr>\n",
       "      <th>19</th>\n",
       "      <td>A. W.</td>\n",
       "      <td>2021-07-31</td>\n",
       "      <td>2</td>\n",
       "      <td>Why is the service here so poor The food is ok...</td>\n",
       "    </tr>\n",
       "  </tbody>\n",
       "</table>\n",
       "</div>"
      ],
      "text/plain": [
       "         author datePublished  reviewRating  \\\n",
       "0      Tyson L.    2021-06-26             5   \n",
       "1    Melissa E.    2021-10-09             4   \n",
       "2       Matt B.    2021-07-30             4   \n",
       "3       Jill N.    2021-03-18             5   \n",
       "4     Maling S.    2020-09-17             5   \n",
       "5       Dana S.    2021-02-18             5   \n",
       "6   Michelle H.    2020-05-08             4   \n",
       "7    Jasmine Y.    2021-09-15             5   \n",
       "8      Aaron W.    2021-05-24             1   \n",
       "9   Jennifer B.    2020-03-12             5   \n",
       "10    Purple Z.    2021-08-10             5   \n",
       "11     Niall O.    2021-09-29             3   \n",
       "12     Chloe C.    2020-09-11             5   \n",
       "13      John R.    2021-02-02             3   \n",
       "14    Norman S.    2020-02-25             4   \n",
       "15      Elsa C.    2020-01-31             3   \n",
       "16      Chef D.    2020-09-24             4   \n",
       "17   Patrick F.    2021-01-27             5   \n",
       "18    Autumn M.    2021-04-08             5   \n",
       "19        A. W.    2021-07-31             2   \n",
       "\n",
       "                                          description  \n",
       "0   Rarely will you find MeeT empty  an arbitrary ...  \n",
       "1   Im not a vegan but I love trying innovative ve...  \n",
       "2   Im much more sold on this place nowadays I ord...  \n",
       "3   Went here for St Patties Day Our server Derek ...  \n",
       "4   Sept 17 and went with my brother for vegan foo...  \n",
       "5   Ive ordered takeout from the Yaletown location...  \n",
       "6   I havent had this is YEARS I used to be SO obs...  \n",
       "7   Ordered takeout online to the Main Street loca...  \n",
       "8   Saw 3 patio tables empty and barely any line u...  \n",
       "9   Love the MeeT restaurants in Vancouver Ive eat...  \n",
       "10  Ive been a couple times to the restaurant in G...  \n",
       "11  The staff all seemed really nice and their was...  \n",
       "12  I probably wont be dining out as often since s...  \n",
       "13  I used love MeeT on Main I order MeeT via door...  \n",
       "14  Never thought vegetarian food could taste this...  \n",
       "15  It was a rainy Friday in January A group of 8 ...  \n",
       "16  This spot always serves up the yummiest vegan ...  \n",
       "17  A great selection of Vegan food The sweet chil...  \n",
       "18  Its taken me way too long to review this place...  \n",
       "19  Why is the service here so poor The food is ok...  "
      ]
     },
     "execution_count": 60,
     "metadata": {},
     "output_type": "execute_result"
    }
   ],
   "source": [
    "yelp_df = pd.DataFrame.from_dict(reviews)\n",
    "yelp_df['reviewRating'] = yelp_df['reviewRating'].apply(get_rating)\n",
    "yelp_df['description'] = yelp_df['description'].apply(clean_sent)\n",
    "yelp_df"
   ]
  },
  {
   "cell_type": "code",
   "execution_count": 141,
   "metadata": {},
   "outputs": [],
   "source": [
    "yelp_df.to_csv('yelp_revs.csv', index=False)"
   ]
  },
  {
   "cell_type": "markdown",
   "metadata": {},
   "source": [
    "### Collecting reviews from multiple restaurants"
   ]
  },
  {
   "cell_type": "markdown",
   "metadata": {},
   "source": [
    "Get the links from different restaurants. Here, I searched for Vegan restaurants in Vancouver."
   ]
  },
  {
   "cell_type": "code",
   "execution_count": 25,
   "metadata": {},
   "outputs": [],
   "source": [
    "headers = {'User-Agent':'Mozilla/5.0 (Macintosh; Intel Mac OS X 10_11_2) AppleWebKit/601.3.9 (KHTML, like Gecko) Version/9.0.2 Safari/601.3.9'}\n",
    "start_page = 420\n",
    "#url = \"https://www.yelp.ca/search?find_desc=Vegan%20Restaurants&find_loc=Vancouver%2C%20BC\"\n",
    "urls = [\"https://www.yelp.ca/search?find_desc=Vegan%20Restaurants&find_loc=Vancouver%2C%20BC\", \"https://www.yelp.ca/search?find_desc=vegan%20Restaurants&find_loc=Vancouver%2C%20BC&start=10\", \"https://www.yelp.ca/search?find_desc=vegan%20Restaurants&find_loc=Vancouver%2C%20BC&start=20\"]\n",
    "#response = requests.get(url, headers=headers)"
   ]
  },
  {
   "cell_type": "code",
   "execution_count": 18,
   "metadata": {},
   "outputs": [],
   "source": [
    "response = requests.get(url, headers=headers)\n",
    "content = response.content\n",
    "soup = BeautifulSoup(content,\"lxml\")"
   ]
  },
  {
   "cell_type": "code",
   "execution_count": 26,
   "metadata": {},
   "outputs": [
    {
     "data": {
      "text/plain": [
       "[('MILA Plant-Based', '/biz/mila-plant-based-vancouver?osq=Vegan+Restaurants'),\n",
       " ('Lotus Seed Vegan', '/biz/lotus-seed-vegan-vancouver?osq=Vegan+Restaurants'),\n",
       " ('MeeT in Gastown', '/biz/meet-in-gastown-vancouver?osq=Vegan+Restaurants'),\n",
       " ('Vegan Cave Cafe', '/biz/vegan-cave-cafe-vancouver?osq=Vegan+Restaurants'),\n",
       " ('BeetBox', '/biz/beetbox-vancouver?osq=Vegan+Restaurants'),\n",
       " ('Nuba in Gastown', '/biz/nuba-in-gastown-vancouver-2?osq=Vegan+Restaurants'),\n",
       " ('Do Chay', '/biz/do-chay-vancouver-2?osq=Vegan+Restaurants'),\n",
       " ('MeeT on Main', '/biz/meet-on-main-vancouver?osq=Vegan+Restaurants'),\n",
       " ('CHAU Veggie Express',\n",
       "  '/biz/chau-veggie-express-vancouver-2?osq=Vegan+Restaurants'),\n",
       " ('Tama Organic Life',\n",
       "  '/biz/tama-organic-life-vancouver?osq=Vegan+Restaurants'),\n",
       " ('Arike Restaurant',\n",
       "  '/biz/arike-restaurant-vancouver-2?osq=vegan+Restaurants'),\n",
       " ('4 Stones Vegetarian Cuisine',\n",
       "  '/biz/4-stones-vegetarian-cuisine-richmond?osq=vegan+Restaurants'),\n",
       " ('Buddha-Full', '/biz/buddha-full-north-vancouver?osq=vegan+Restaurants'),\n",
       " ('The Arbor', '/biz/the-arbor-vancouver-2?osq=vegan+Restaurants'),\n",
       " ('CHAU Veggie Express',\n",
       "  '/biz/chau-veggie-express-vancouver-2?osq=vegan+Restaurants'),\n",
       " ('Sula', '/biz/sula-vancouver?osq=vegan+Restaurants'),\n",
       " ('Do Chay Saigon Vegetarian',\n",
       "  '/biz/do-chay-saigon-vegetarian-vancouver-2?osq=vegan+Restaurants'),\n",
       " ('Veggiebowl', '/biz/veggiebowl-vancouver?osq=vegan+Restaurants'),\n",
       " ('Kokomo', '/biz/kokomo-vancouver-2?osq=vegan+Restaurants'),\n",
       " ('Planetary Burger', '/biz/planetary-burger-vancouver?osq=vegan+Restaurants'),\n",
       " ('Planetary Burger', '/biz/planetary-burger-vancouver?osq=vegan+Restaurants'),\n",
       " ('Do Chay Saigon Vegetarian',\n",
       "  '/biz/do-chay-saigon-vegetarian-vancouver-2?osq=vegan+Restaurants'),\n",
       " ('Kind Cafe', '/biz/kind-cafe-vancouver?osq=vegan+Restaurants'),\n",
       " ('Sula', '/biz/sula-vancouver?osq=vegan+Restaurants'),\n",
       " ('Open Outcry & Pop Salt',\n",
       "  '/biz/open-outcry-and-pop-salt-vancouver?osq=vegan+Restaurants'),\n",
       " ('Loving Hut Express',\n",
       "  '/biz/loving-hut-express-vancouver?osq=vegan+Restaurants'),\n",
       " ('Sun Bo Kong Vegetarian Restaurant',\n",
       "  '/biz/sun-bo-kong-vegetarian-restaurant-vancouver-2?osq=vegan+Restaurants'),\n",
       " ('Hawksworth Restaurant',\n",
       "  '/biz/hawksworth-restaurant-vancouver-3?osq=vegan+Restaurants'),\n",
       " ('Virtuous Pie', '/biz/virtuous-pie-vancouver?osq=vegan+Restaurants'),\n",
       " ('Vegan Pizza House',\n",
       "  '/biz/vegan-pizza-house-vancouver?osq=vegan+Restaurants')]"
      ]
     },
     "execution_count": 26,
     "metadata": {},
     "output_type": "execute_result"
    }
   ],
   "source": [
    "resto_links = []\n",
    "\n",
    "for url in urls:\n",
    "    response = requests.get(url, headers=headers)\n",
    "    content = response.content\n",
    "    soup = BeautifulSoup(content,\"lxml\")\n",
    "    for a in soup.find_all('a', {\"class\": \"css-1422juy\"}): ## css changes regularly, inspect element again!\n",
    "        if a['href'][1:4] == 'biz':\n",
    "            resto_links.append((a['name'], a['href']))\n",
    "        \n",
    "resto_links"
   ]
  },
  {
   "cell_type": "markdown",
   "metadata": {},
   "source": [
    "Now we do the same thing as Part 1 but we will get the reviews from each of the links instead of just one link."
   ]
  },
  {
   "cell_type": "code",
   "execution_count": 27,
   "metadata": {},
   "outputs": [],
   "source": [
    "resto_revs = []\n",
    "for name, link in resto_links:\n",
    "    url = 'https://www.yelp.ca' + link\n",
    "    response = requests.get(url, headers=headers)\n",
    "    content = response.content\n",
    "    soup = BeautifulSoup(content, \"lxml\")\n",
    "    reviews = json.loads(soup.find('script', type='application/ld+json').string)['review']\n",
    "    for rev in reviews:\n",
    "        rev['name'] = name\n",
    "        \n",
    "    resto_revs.extend(reviews)"
   ]
  },
  {
   "cell_type": "code",
   "execution_count": 28,
   "metadata": {},
   "outputs": [],
   "source": [
    "all_reviews = \"\"\n",
    "for rev in resto_revs:\n",
    "    all_reviews = all_reviews + rev['description'] + \" \""
   ]
  },
  {
   "cell_type": "code",
   "execution_count": 29,
   "metadata": {},
   "outputs": [],
   "source": [
    "regex = r'(&.{4};|&.{4})'\n",
    "unwanted = set()\n",
    "punc = '''!()-[]{};:'\"\\,<>./?@#$^&*_~'''"
   ]
  },
  {
   "cell_type": "code",
   "execution_count": 30,
   "metadata": {},
   "outputs": [
    {
     "data": {
      "text/plain": [
       "{'&amp;', '&apos;', '&quot;'}"
      ]
     },
     "execution_count": 30,
     "metadata": {},
     "output_type": "execute_result"
    }
   ],
   "source": [
    "for i in re.finditer(regex, all_reviews):\n",
    "    unwanted.add(i.group())\n",
    "    \n",
    "unwanted"
   ]
  },
  {
   "cell_type": "code",
   "execution_count": 33,
   "metadata": {},
   "outputs": [
    {
     "data": {
      "text/html": [
       "<div>\n",
       "<style scoped>\n",
       "    .dataframe tbody tr th:only-of-type {\n",
       "        vertical-align: middle;\n",
       "    }\n",
       "\n",
       "    .dataframe tbody tr th {\n",
       "        vertical-align: top;\n",
       "    }\n",
       "\n",
       "    .dataframe thead th {\n",
       "        text-align: right;\n",
       "    }\n",
       "</style>\n",
       "<table border=\"1\" class=\"dataframe\">\n",
       "  <thead>\n",
       "    <tr style=\"text-align: right;\">\n",
       "      <th></th>\n",
       "      <th>author</th>\n",
       "      <th>datePublished</th>\n",
       "      <th>reviewRating</th>\n",
       "      <th>description</th>\n",
       "      <th>name</th>\n",
       "    </tr>\n",
       "  </thead>\n",
       "  <tbody>\n",
       "    <tr>\n",
       "      <th>0</th>\n",
       "      <td>Jess S.</td>\n",
       "      <td>2021-07-05</td>\n",
       "      <td>5</td>\n",
       "      <td>Everything from the atmosphere to the service ...</td>\n",
       "      <td>MILA Plant-Based</td>\n",
       "    </tr>\n",
       "    <tr>\n",
       "      <th>1</th>\n",
       "      <td>Arlene B.</td>\n",
       "      <td>2021-10-03</td>\n",
       "      <td>4</td>\n",
       "      <td>You dont have to be vegan to appreciate the fo...</td>\n",
       "      <td>MILA Plant-Based</td>\n",
       "    </tr>\n",
       "    <tr>\n",
       "      <th>2</th>\n",
       "      <td>Poonam M.</td>\n",
       "      <td>2021-08-08</td>\n",
       "      <td>4</td>\n",
       "      <td>This the old Juniper so the layout is the same...</td>\n",
       "      <td>MILA Plant-Based</td>\n",
       "    </tr>\n",
       "    <tr>\n",
       "      <th>3</th>\n",
       "      <td>Suzan L.</td>\n",
       "      <td>2021-06-26</td>\n",
       "      <td>1</td>\n",
       "      <td>Very disappointing experience The Sakura cockt...</td>\n",
       "      <td>MILA Plant-Based</td>\n",
       "    </tr>\n",
       "    <tr>\n",
       "      <th>4</th>\n",
       "      <td>Sangeetha M.</td>\n",
       "      <td>2021-05-05</td>\n",
       "      <td>4</td>\n",
       "      <td>I ordered for delivery so I cant comment on th...</td>\n",
       "      <td>MILA Plant-Based</td>\n",
       "    </tr>\n",
       "    <tr>\n",
       "      <th>...</th>\n",
       "      <td>...</td>\n",
       "      <td>...</td>\n",
       "      <td>...</td>\n",
       "      <td>...</td>\n",
       "      <td>...</td>\n",
       "    </tr>\n",
       "    <tr>\n",
       "      <th>581</th>\n",
       "      <td>Mark C.</td>\n",
       "      <td>2016-03-15</td>\n",
       "      <td>5</td>\n",
       "      <td>Great people who really care about Vegans choi...</td>\n",
       "      <td>Vegan Pizza House</td>\n",
       "    </tr>\n",
       "    <tr>\n",
       "      <th>582</th>\n",
       "      <td>April T.</td>\n",
       "      <td>2019-05-27</td>\n",
       "      <td>5</td>\n",
       "      <td>Great pizza this is the only place where I lik...</td>\n",
       "      <td>Vegan Pizza House</td>\n",
       "    </tr>\n",
       "    <tr>\n",
       "      <th>583</th>\n",
       "      <td>Patricia L.</td>\n",
       "      <td>2017-08-09</td>\n",
       "      <td>4</td>\n",
       "      <td>My go-to for vegan take out in Vancouver They ...</td>\n",
       "      <td>Vegan Pizza House</td>\n",
       "    </tr>\n",
       "    <tr>\n",
       "      <th>584</th>\n",
       "      <td>Steven S.</td>\n",
       "      <td>2017-12-29</td>\n",
       "      <td>4</td>\n",
       "      <td>Ive become vegan recently so we wandered into ...</td>\n",
       "      <td>Vegan Pizza House</td>\n",
       "    </tr>\n",
       "    <tr>\n",
       "      <th>585</th>\n",
       "      <td>Kat A.</td>\n",
       "      <td>2017-08-16</td>\n",
       "      <td>5</td>\n",
       "      <td>Whenever we are driving through the Kingsway a...</td>\n",
       "      <td>Vegan Pizza House</td>\n",
       "    </tr>\n",
       "  </tbody>\n",
       "</table>\n",
       "<p>586 rows × 5 columns</p>\n",
       "</div>"
      ],
      "text/plain": [
       "           author datePublished  reviewRating  \\\n",
       "0         Jess S.    2021-07-05             5   \n",
       "1       Arlene B.    2021-10-03             4   \n",
       "2       Poonam M.    2021-08-08             4   \n",
       "3        Suzan L.    2021-06-26             1   \n",
       "4    Sangeetha M.    2021-05-05             4   \n",
       "..            ...           ...           ...   \n",
       "581       Mark C.    2016-03-15             5   \n",
       "582      April T.    2019-05-27             5   \n",
       "583   Patricia L.    2017-08-09             4   \n",
       "584     Steven S.    2017-12-29             4   \n",
       "585        Kat A.    2017-08-16             5   \n",
       "\n",
       "                                           description               name  \n",
       "0    Everything from the atmosphere to the service ...   MILA Plant-Based  \n",
       "1    You dont have to be vegan to appreciate the fo...   MILA Plant-Based  \n",
       "2    This the old Juniper so the layout is the same...   MILA Plant-Based  \n",
       "3    Very disappointing experience The Sakura cockt...   MILA Plant-Based  \n",
       "4    I ordered for delivery so I cant comment on th...   MILA Plant-Based  \n",
       "..                                                 ...                ...  \n",
       "581  Great people who really care about Vegans choi...  Vegan Pizza House  \n",
       "582  Great pizza this is the only place where I lik...  Vegan Pizza House  \n",
       "583  My go-to for vegan take out in Vancouver They ...  Vegan Pizza House  \n",
       "584  Ive become vegan recently so we wandered into ...  Vegan Pizza House  \n",
       "585  Whenever we are driving through the Kingsway a...  Vegan Pizza House  \n",
       "\n",
       "[586 rows x 5 columns]"
      ]
     },
     "execution_count": 33,
     "metadata": {},
     "output_type": "execute_result"
    }
   ],
   "source": [
    "yelp_df = pd.DataFrame.from_dict(resto_revs)\n",
    "yelp_df['reviewRating'] = yelp_df['reviewRating'].apply(get_rating)\n",
    "yelp_df['description'] = yelp_df['description'].apply(clean_sent)\n",
    "yelp_df"
   ]
  },
  {
   "cell_type": "code",
   "execution_count": 34,
   "metadata": {},
   "outputs": [],
   "source": [
    "yelp_df.to_csv('yelp_revs.csv', index=False)"
   ]
  },
  {
   "cell_type": "markdown",
   "metadata": {
    "tags": []
   },
   "source": [
    "## EDA"
   ]
  },
  {
   "cell_type": "code",
   "execution_count": 35,
   "metadata": {},
   "outputs": [
    {
     "data": {
      "text/plain": [
       "5    315\n",
       "4    156\n",
       "2     41\n",
       "3     40\n",
       "1     34\n",
       "Name: reviewRating, dtype: int64"
      ]
     },
     "execution_count": 35,
     "metadata": {},
     "output_type": "execute_result"
    }
   ],
   "source": [
    "yelp_df['reviewRating'].value_counts()"
   ]
  },
  {
   "cell_type": "code",
   "execution_count": 36,
   "metadata": {},
   "outputs": [],
   "source": [
    "from nltk import word_tokenize, WordNetLemmatizer\n",
    "from nltk.corpus import stopwords\n",
    "from collections import defaultdict"
   ]
  },
  {
   "cell_type": "code",
   "execution_count": 37,
   "metadata": {},
   "outputs": [],
   "source": [
    "lemmatizer = WordNetLemmatizer()\n",
    "vocab = defaultdict(int)\n",
    "for review in yelp_df['description']:\n",
    "    for word in word_tokenize(review):\n",
    "        if word.lower() not in stopwords.words('english'):\n",
    "            lemma = lemmatizer.lemmatize(word.lower())\n",
    "            vocab[lemma] += 1"
   ]
  },
  {
   "cell_type": "code",
   "execution_count": 38,
   "metadata": {},
   "outputs": [
    {
     "data": {
      "text/plain": [
       "['food',\n",
       " 'good',\n",
       " 'place',\n",
       " 'vegan',\n",
       " 'like',\n",
       " 'really',\n",
       " 'also',\n",
       " 'delicious',\n",
       " 'great',\n",
       " 'time']"
      ]
     },
     "execution_count": 38,
     "metadata": {},
     "output_type": "execute_result"
    }
   ],
   "source": [
    "sorted(vocab, key=vocab.get, reverse=True)[:10]"
   ]
  },
  {
   "cell_type": "code",
   "execution_count": 39,
   "metadata": {},
   "outputs": [
    {
     "data": {
      "text/plain": [
       "['calen',\n",
       " 'toddler',\n",
       " 'navigate',\n",
       " 'appropriate',\n",
       " 'settled',\n",
       " 'agedashi',\n",
       " '+3',\n",
       " 'puffed',\n",
       " 'maldon',\n",
       " 'indigenous']"
      ]
     },
     "execution_count": 39,
     "metadata": {},
     "output_type": "execute_result"
    }
   ],
   "source": [
    "sorted(vocab, key=vocab.get)[:10]"
   ]
  },
  {
   "cell_type": "code",
   "execution_count": null,
   "metadata": {},
   "outputs": [],
   "source": []
  }
 ],
 "metadata": {
  "kernelspec": {
   "display_name": "Python 3",
   "language": "python",
   "name": "python3"
  },
  "language_info": {
   "codemirror_mode": {
    "name": "ipython",
    "version": 3
   },
   "file_extension": ".py",
   "mimetype": "text/x-python",
   "name": "python",
   "nbconvert_exporter": "python",
   "pygments_lexer": "ipython3",
   "version": "3.8.3"
  }
 },
 "nbformat": 4,
 "nbformat_minor": 4
}
