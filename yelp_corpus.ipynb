{
 "cells": [
  {
   "cell_type": "code",
   "execution_count": 72,
   "metadata": {},
   "outputs": [],
   "source": [
    "from bs4 import BeautifulSoup\n",
    "import requests\n",
    "import pandas as pd\n",
    "import json"
   ]
  },
  {
   "cell_type": "code",
   "execution_count": 3,
   "metadata": {},
   "outputs": [],
   "source": [
    "#Used headers/agent because the request was timed out and asking for an agent. \n",
    "#Using following code we can fake the agent.\n",
    "headers = headers = {'User-Agent':'Mozilla/5.0 (Macintosh; Intel Mac OS X 10_11_2) AppleWebKit/601.3.9 (KHTML, like Gecko) Version/9.0.2 Safari/601.3.9'}\n",
    "url=\"https://www.yelp.ca/biz/meet-on-main-vancouver?sort_by=date_desc\"\n",
    "response = requests.get(url, headers=headers)"
   ]
  },
  {
   "cell_type": "code",
   "execution_count": 81,
   "metadata": {},
   "outputs": [],
   "source": [
    "content = response.content\n",
    "soup = BeautifulSoup(content,\"lxml\")"
   ]
  },
  {
   "cell_type": "code",
   "execution_count": 82,
   "metadata": {},
   "outputs": [
    {
     "data": {
      "text/plain": [
       "[{'author': 'Tyson L.',\n",
       "  'datePublished': '2021-06-26',\n",
       "  'reviewRating': {'ratingValue': 5},\n",
       "  'description': 'Rarely will you find MeeT empty -- an arbitrary indicator of popularity if you care about that -- as the vegan food is of high quality with solid portions. \\n\\nAfter multiple visits, some with Vegans, others with the &quot;oh but you need animal protein to survive cohort&quot;, 90% of guests would recommend the restaurant for its all-inclusive, varying menu.\\n\\nMy test for a good restaurant is whether I could replicate the dishes and/or be willing to create the dishes, and I could not with the same flavors.\\n\\nPersonally a big fan of the Macro bowl or the Meet burger, but most friends are content with the selection of poutines and the Mighty Mac.\\n\\nGood quality food is good quality food, and whether you&apos;re vegan or not you will be satisfied'},\n",
       " {'author': 'Melissa E.',\n",
       "  'datePublished': '2021-10-09',\n",
       "  'reviewRating': {'ratingValue': 4},\n",
       "  'description': 'I&apos;m not a vegan but I love trying innovative vegan food! This place has a great drink menu and a great vibe! \\nOrdered the fried oyster mushroom &quot;calamari&quot; to start and it was super tasty.  Perfectly fried, served with a nice garlicky tzatziki and a wedge of lemon.  Honestly, I actually prefer this over real calamari.  My only complaint was it was a tad salty.\\nFor the mains we had The Crispy BBQ burger and the Meet Burger. This comes with salad and fries and both are delicious.  Salad was lightly dressed and had a nice tangy dressing.  Fries were soooo good, like too good, like you eat too many you have to unbutton the top of your pants after so you can breathe good!  The burgers were tasty but very big and hard to eat! Bbq sauce was delicious.  Definitely coming back to try the bowls next! Service was great as well!'},\n",
       " {'author': 'Matt B.',\n",
       "  'datePublished': '2021-07-30',\n",
       "  'reviewRating': {'ratingValue': 4},\n",
       "  'description': 'I&apos;m much more sold on this place nowadays. I order every few months and am always satisfied. One of my favourites is the Seoul bowl ($17.50 plus tax), which comes with deliciously seasoned and sauced &quot;chicken&quot;, perfectly fermented kimchi, sauteed mushrooms and onions, cooked kale, cooked bean sprouts, raw carrots, some nori, served over brown rice, and drizzled with a nice sweet ginger soy sauce. Generous portion and nicely constructed bowl. Very satisfying dish. One of the better non-ethnic vegan places in town. Recommended.'},\n",
       " {'author': 'Jill N.',\n",
       "  'datePublished': '2021-03-18',\n",
       "  'reviewRating': {'ratingValue': 5},\n",
       "  'description': 'Went here for St. Patties Day\\nOur server Derek was AWESOME!!! Seriously made our night. I got the double double and my friend got the angry bird with poutine. It was my friends first time having vegan food and explained &quot;wow I thought I&apos;d have to compromise flavour but this is some of the best food I&apos;ve ever had a restaurant ever.&quot;\\nFor dessert we had chocolate moose - so light and fluffy - and the cheesecake which was also very tasty and a bit richer.\\nWas an amazing evening. Will definitely be back.\\nHuge shout out to Derek again for all his guidance, patience, and for being an awesome person as well. Definitely put our already great evening off the charts.'},\n",
       " {'author': 'Maling S.',\n",
       "  'datePublished': '2020-09-17',\n",
       "  'reviewRating': {'ratingValue': 5},\n",
       "  'description': 'Sept 17 and went with my brother for vegan food. Decided ok MeeT on Main. We went about 5:30pm and was able to get a seat outside. \\n\\nI now need to watch my sugar intake closely. It&apos;s harder to eat out because of this. They were able to find something I can have and adjusted some ingredients. \\n\\nI had the Macro bowl. Instead of mushrooms which I am not a fan of with sweet potato. It was delicious! I can confirm the dinner did not spike my blood sugar the next morning. \\n\\nMy brother had the Main burger and he enjoyed it. He said it&apos;s the best veggie burger he has had. \\n\\nThey were bumping busy with lots of people picking up orders. \\n\\nHighly recommend.'},\n",
       " {'author': 'Dana S.',\n",
       "  'datePublished': '2021-02-18',\n",
       "  'reviewRating': {'ratingValue': 5},\n",
       "  'description': 'I&apos;ve ordered takeout from the Yaletown location but this was my first time dining in at a MeeT and I was pretty impressed! The menu has great variety - no matter what type of cuisine you might be craving, there&apos;s something for you. Apparently they&apos;re most known for their burgers but I really enjoyed the bowl I had here and from their Yaletown location. I had the Butter Chikkin and absolutely loved the &quot;chicken&quot;, the texture was very satisfying and it delivered the savoury flavour of chicken without being too meaty. The curry sauce was also complex in taste and just spicy enough. They serve it with a side salsa salad which I thought was kind of a surprising pairing with the butter chicken, but it was really good regardless. Everyone in my party really enjoyed their food and portion sizes were good all around.\\nThis is the first restaurant I&apos;ve visited that does temperature checks for customers and from how simple it was I&apos;m surprised more places aren&apos;t doing it. The staff were all very friendly and despite being busy they were efficient and just attentive enough.'},\n",
       " {'author': 'Michelle H.',\n",
       "  'datePublished': '2020-05-08',\n",
       "  'reviewRating': {'ratingValue': 4},\n",
       "  'description': 'I haven&apos;t had this is YEARS  I used to be SO obsessed with Meet on Main back in high school! During lunch breaks, spare blocks and even before basketball practices/games, I would always be rushing to Main Street to pick up my Noodley-Thai order  Now that I&apos;m a little older and my preferences have changed a little, i can&apos;t wait to finally try something else on their menu as I&apos;ve only ever ordered Noodley-Thai \\n\\nI also absolutely love their Chocolate and Coconut Ganache Tart  vegan,  dairy-free... it just melts in your mouth  This is definitely up their in my top 5 favourite desserts :)  \\n\\nA little bit on the pricier side but it&apos;s always a great experience, whether I&apos;m dining in or getting take out  My only complaint is that the food does take quite a bit of time.'},\n",
       " {'author': 'Jasmine Y.',\n",
       "  'datePublished': '2021-09-15',\n",
       "  'reviewRating': {'ratingValue': 5},\n",
       "  'description': 'Ordered takeout online to the Main Street location. I arrived a little early and my order was done right when I got there which was awesome! Love ordering online and picking up. Makes it so convenient. I ordered the ginger beef bowl and it was awesome. I&apos;ve ordered a few times and everything I&apos;ve gotten has been amazing. My sister is vegetarian and this is the #1 place she asks for. Definitely one of the regular go tos!!'},\n",
       " {'author': 'Aaron W.',\n",
       "  'datePublished': '2021-05-24',\n",
       "  'reviewRating': {'ratingValue': 1},\n",
       "  'description': 'Saw 3 patio tables empty and barely any line ups but was told to wait 45 mins. Thought gave this a try again but the service isn&apos;t there. Was also promised a gift card from the owner but it&apos;s been over 3 years and never got that gift card. Not gonna support this restaurant again.'},\n",
       " {'author': 'Jennifer B.',\n",
       "  'datePublished': '2020-03-12',\n",
       "  'reviewRating': {'ratingValue': 5},\n",
       "  'description': 'Love the MeeT restaurants in Vancouver. I&apos;ve eaten here several times over the past few years. Street parking is easy at this location. It&apos;s usually busy, but the wait (if any) is minimal. We went on a Wednesday night for dinner. It was packed, but we got right in. \\n\\nThe entire menu is vegan and delicious. We ordered two things we&apos;d never had before: hot and sour soup and a special poutine. The soup was very bland and brothy. I wouldn&apos;t liken it to hot and sour soup at all. The poutine was excellent and is featured just this week. They have several types of poutine offered on the regular menu though. The burger is fantastic if you want comfort food. Comes with fries and a little salad. The mushroom calamari is a must. Lightly battered and delicious!'},\n",
       " {'author': 'Purple Z.',\n",
       "  'datePublished': '2021-08-10',\n",
       "  'reviewRating': {'ratingValue': 5},\n",
       "  'description': 'I&apos;ve been a couple times to the restaurant in Gastown, always liked it. Not disappointed at the Main location'},\n",
       " {'author': 'Niall O.',\n",
       "  'datePublished': '2021-09-29',\n",
       "  'reviewRating': {'ratingValue': 3},\n",
       "  'description': 'The staff all seemed really nice and their was a nice atmosphere but the food was pretty poor. It could just be that my partner and I both ordered the wrong item or were there on an off night but we felt like they were trading much more if the novelty of the vegan food resembling other dishes than it actually being particularly tasty.'},\n",
       " {'author': 'Chloe C.',\n",
       "  'datePublished': '2020-09-11',\n",
       "  'reviewRating': {'ratingValue': 5},\n",
       "  'description': 'I probably won&apos;t be dining out as often since school has started, but I went to MeeT today for their weekly feature and it was hella good.\\n\\nChikkin Whoa-Fredo (5/5)\\nI absolutely adored this dish. While I would have liked a little more sauce, since the sauce was delicious, I have zero complaints about this. The noodle to chikkin ratio was pretty good, the Alfredo was creamy and flavourful, the chikkin was tender and the arugla was fresh. Alfredo is usually a hit or miss for me, but MeeT nails it every time.\\n\\nCrispy Kalamari Caesar (4.5/5)\\nThis was really good, but for the first time in my life I am saying that there was too much dressing. While I appreciate the generosity, I&apos;ll probably ask for the dressing on the side next time. The mushrooms were nice and crispy, and the tzatziki was creamy and flavourful. The greens were fresh and the croutons were crispy. I really enjoyed this.\\n\\nThere&apos;s a reason why MeeT is one of my go-to restaurants. Their food is amazing and their weekly specials are always something to look forward to. I will definitely be back (hopefully soon!)'},\n",
       " {'author': 'John R.',\n",
       "  'datePublished': '2021-02-02',\n",
       "  'reviewRating': {'ratingValue': 3},\n",
       "  'description': 'I used love MeeT on Main. I order MeeT via door dash every Saturday. I am noticing the quality of the food is going downhill from the Main Street location. My friend and I ordered the Crispy BBQ Burger. Hands down this is a very delicious burger mouth watering and you can&apos;t tell it is vegan. The burger this time came so spicy that it caused heart burn and I had to stop eating it. My friend also commented and asked me why so spicy. The box the burger came in had bbq crispy burger written on it. The previous burgers I have had were never this spicy. Oyster mushroom Kalamari is great appie to order. We highly recommend this dish.  This passed weekend, I ordered MeeT on Main and the burger bun was stale and the flavour was not like I have had before.'},\n",
       " {'author': 'Norman S.',\n",
       "  'datePublished': '2020-02-25',\n",
       "  'reviewRating': {'ratingValue': 4},\n",
       "  'description': 'Never thought vegetarian food could taste this good!! I&apos;m a meat lover, like all things meat I&apos;m there! I was skeptical when we decided to go here but kept an open mind.  \\n\\nWhen I think of vegetarian or healthy foods I don&apos;t normally associate it with something flavourful or something I would opt for. We ordered the Seoul Bowl and the Butter Chikkin Poutine.\\n\\nButter Chikken Poutine was hella good!! Like WOW didn&apos;t realize there could be something so flavourful and so tasty and it doesn&apos;t even contain meat! This was absolutely tasty any way you look at it! \\n\\nSeoul Bowl was jam packed with ingredients and had a variety of textures, from kimchi to bean sprouts to carrots and mushrooms. Seriously enjoyed every bite of it.\\n\\nThere was a slight confusion as I wasn&apos;t aware I would be ordering food from the bartender but once we figured that out everything was smooth. \\n\\nThe staff there was amazing and the bartender was super nice and made some killer drinks! Ordered a &quot;That don&apos;t Empress me much&quot; and a &quot;Meet Ceasar&quot;. The Empress drink had a nice frothy layer on top and the orange and grapefruit flavours made it extra tasty!  Ceasar was Ok to me but I feel that way about most Ceasars as its a pretty standard drink.\\n\\nAlso if you&apos;re a fan on Kombucha, they have it on tap and the entire dining experience I watch them pump out dozens of drinks out! Must be sometime to check out next time.\\n\\nI think you deserve to experience this place. You maybe skeptical like me but go in there with an open mind, I think you&apos;d be really surprised!'},\n",
       " {'author': 'Elsa C.',\n",
       "  'datePublished': '2020-01-31',\n",
       "  'reviewRating': {'ratingValue': 3},\n",
       "  'description': 'It was a rainy Friday in January. A group of 8 of us arrived at 11:30 and were seated immediately. There was a list of kombucha, but only 2 were available at that time. I ordered the house Kombucha and it tasted alright.\\nWe ordered at 11:52am and the order arrived at 12:07pm. I ordered the Thai salad.\\nI forgot to ask for the dressing to be on the side, and I find the salad to be a bit overdressed for my liking. The salad was ok. Nothing special.\\nSome of the group didn&apos;t really like it, some find it good.\\nOverall, nice experience.'},\n",
       " {'author': 'Chef D.',\n",
       "  'datePublished': '2020-09-24',\n",
       "  'reviewRating': {'ratingValue': 4},\n",
       "  'description': 'This spot always serves up the yummiest vegan food. My personal favourite is the Vegan Mac and Cheese!\\n\\nIf you ever need somewhere for some delicious vegan comfort food.'},\n",
       " {'author': 'Patrick F.',\n",
       "  'datePublished': '2021-01-27',\n",
       "  'reviewRating': {'ratingValue': 5},\n",
       "  'description': 'A great selection of Vegan food. The sweet chili Cauliflower was delicious! The burger was great. Looking forward to visiting again'},\n",
       " {'author': 'Autumn M.',\n",
       "  'datePublished': '2021-04-08',\n",
       "  'reviewRating': {'ratingValue': 5},\n",
       "  'description': 'It&apos;s taken me way too long to review this place! I&apos;ve eaten in-house twice over the past year, and ordered takeout from here countless times. I usually get the macaroni and cheese with the added &apos;sausage,&apos; and damn it&apos;s so good! That said, I&apos;ve ordered quite a few things off their menu and I&apos;ve been impressed with everything. They don&apos;t skimp out on flavour!\\n\\nWhen we ate in, the service was great, too! The waitress was friendly and not intrusive. When it&apos;s safe to do so, we&apos;ll definitely be back. In the meantime, we&apos;ll happily keep ordering takeout!'},\n",
       " {'author': 'A. W.',\n",
       "  'datePublished': '2021-07-31',\n",
       "  'reviewRating': {'ratingValue': 2},\n",
       "  'description': 'Why is the service here so poor? The food is okay - but every time I come here (alone or with someone else) the servers will seat me and then it&apos;s at least 10-15 minutes before anyone will ask if I need a beverage or am ready to order. Feels like an eon - and it&apos;s like this regardless of how busy they are. Ooof.'}]"
      ]
     },
     "execution_count": 82,
     "metadata": {},
     "output_type": "execute_result"
    }
   ],
   "source": [
    "reviews = json.loads(soup.find('script', type='application/ld+json').string)\n",
    "reviews['review']"
   ]
  },
  {
   "cell_type": "code",
   "execution_count": null,
   "metadata": {},
   "outputs": [],
   "source": []
  }
 ],
 "metadata": {
  "kernelspec": {
   "display_name": "Python 3",
   "language": "python",
   "name": "python3"
  },
  "language_info": {
   "codemirror_mode": {
    "name": "ipython",
    "version": 3
   },
   "file_extension": ".py",
   "mimetype": "text/x-python",
   "name": "python",
   "nbconvert_exporter": "python",
   "pygments_lexer": "ipython3",
   "version": "3.8.3"
  }
 },
 "nbformat": 4,
 "nbformat_minor": 4
}
