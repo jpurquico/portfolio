{
 "cells": [
  {
   "cell_type": "markdown",
   "metadata": {},
   "source": [
    "## Collecting Yelp Reviews"
   ]
  },
  {
   "cell_type": "code",
   "execution_count": 143,
   "metadata": {},
   "outputs": [],
   "source": [
    "from bs4 import BeautifulSoup\n",
    "import requests\n",
    "import pandas as pd\n",
    "import json\n",
    "import re"
   ]
  },
  {
   "cell_type": "code",
   "execution_count": 145,
   "metadata": {},
   "outputs": [],
   "source": [
    "headers = headers = {'User-Agent':'Mozilla/5.0 (Macintosh; Intel Mac OS X 10_11_2) AppleWebKit/601.3.9 (KHTML, like Gecko) Version/9.0.2 Safari/601.3.9'}\n",
    "url=\"https://www.yelp.ca/biz/meet-on-main-vancouver?sort_by=date_desc\"\n",
    "response = requests.get(url, headers=headers)"
   ]
  },
  {
   "cell_type": "code",
   "execution_count": 3,
   "metadata": {},
   "outputs": [],
   "source": [
    "content = response.content\n",
    "soup = BeautifulSoup(content,\"lxml\")"
   ]
  },
  {
   "cell_type": "code",
   "execution_count": 5,
   "metadata": {},
   "outputs": [
    {
     "data": {
      "text/plain": [
       "{'author': 'Tyson L.',\n",
       " 'datePublished': '2021-06-26',\n",
       " 'reviewRating': {'ratingValue': 5},\n",
       " 'description': 'Rarely will you find MeeT empty -- an arbitrary indicator of popularity if you care about that -- as the vegan food is of high quality with solid portions. \\n\\nAfter multiple visits, some with Vegans, others with the &quot;oh but you need animal protein to survive cohort&quot;, 90% of guests would recommend the restaurant for its all-inclusive, varying menu.\\n\\nMy test for a good restaurant is whether I could replicate the dishes and/or be willing to create the dishes, and I could not with the same flavors.\\n\\nPersonally a big fan of the Macro bowl or the Meet burger, but most friends are content with the selection of poutines and the Mighty Mac.\\n\\nGood quality food is good quality food, and whether you&apos;re vegan or not you will be satisfied'}"
      ]
     },
     "execution_count": 5,
     "metadata": {},
     "output_type": "execute_result"
    }
   ],
   "source": [
    "reviews = json.loads(soup.find('script', type='application/ld+json').string)['review']\n",
    "reviews[0]"
   ]
  },
  {
   "cell_type": "code",
   "execution_count": 19,
   "metadata": {},
   "outputs": [
    {
     "data": {
      "text/plain": [
       "'Rarely will you find MeeT empty -- an arbitrary indicator of popularity if you care about that -- as the vegan food is of high quality with solid portions. \\n\\nAfter multiple visits, some with Vegans, others with the &quot;oh but you need animal protein to survive cohort&quot;, 90% of guests would recommend the restaurant for its all-inclusive, varying menu.\\n\\nMy test for a good restaurant is whether I could replicate the dishes and/or be willing to create the dishes, and I could not with the same flavors.\\n\\nPersonally a big fan of the Macro bowl or the Meet burger, but most friends are content with the selection of poutines and the Mighty Mac.\\n\\nGood quality food is good quality food, and whether you&apos;re vegan or not you will be satisfied'"
      ]
     },
     "execution_count": 19,
     "metadata": {},
     "output_type": "execute_result"
    }
   ],
   "source": [
    "sample_rev = reviews[0]['description']\n",
    "sample_rev"
   ]
  },
  {
   "cell_type": "code",
   "execution_count": 144,
   "metadata": {},
   "outputs": [],
   "source": [
    "regex = r'&.{4};'\n",
    "unwanted = set()\n",
    "for i in re.finditer(regex, sample_rev):\n",
    "    unwanted.add(i.group())\n",
    "    \n",
    "punc = '''!()-[]{};:'\"\\,<>./?@#$^&*_~'''"
   ]
  },
  {
   "cell_type": "code",
   "execution_count": 106,
   "metadata": {},
   "outputs": [],
   "source": [
    "def clean_sent(text):\n",
    "    cleaned = []\n",
    "    for word in text.split():\n",
    "        if not word.isalpha():\n",
    "            for unwanted_string in unwanted:\n",
    "                if unwanted_string in word:\n",
    "                    word = word.replace(unwanted_string, \"\")\n",
    "            word = word.strip(punc)\n",
    "            cleaned.append(word)\n",
    "        else:\n",
    "            cleaned.append(word)\n",
    "    \n",
    "    return \" \".join(cleaned)"
   ]
  },
  {
   "cell_type": "code",
   "execution_count": 107,
   "metadata": {},
   "outputs": [
    {
     "data": {
      "text/plain": [
       "'Rarely will you find MeeT empty  an arbitrary indicator of popularity if you care about that  as the vegan food is of high quality with solid portions After multiple visits some with Vegans others with the oh but you need animal protein to survive cohort 90% of guests would recommend the restaurant for its all-inclusive varying menu My test for a good restaurant is whether I could replicate the dishes and/or be willing to create the dishes and I could not with the same flavors Personally a big fan of the Macro bowl or the Meet burger but most friends are content with the selection of poutines and the Mighty Mac Good quality food is good quality food and whether youre vegan or not you will be satisfied'"
      ]
     },
     "execution_count": 107,
     "metadata": {},
     "output_type": "execute_result"
    }
   ],
   "source": [
    "clean_sent(sample_rev)"
   ]
  },
  {
   "cell_type": "code",
   "execution_count": 137,
   "metadata": {},
   "outputs": [],
   "source": [
    "def get_rating(rating_dict):\n",
    "    return rating_dict['ratingValue']"
   ]
  },
  {
   "cell_type": "code",
   "execution_count": 138,
   "metadata": {},
   "outputs": [
    {
     "data": {
      "text/html": [
       "<div>\n",
       "<style scoped>\n",
       "    .dataframe tbody tr th:only-of-type {\n",
       "        vertical-align: middle;\n",
       "    }\n",
       "\n",
       "    .dataframe tbody tr th {\n",
       "        vertical-align: top;\n",
       "    }\n",
       "\n",
       "    .dataframe thead th {\n",
       "        text-align: right;\n",
       "    }\n",
       "</style>\n",
       "<table border=\"1\" class=\"dataframe\">\n",
       "  <thead>\n",
       "    <tr style=\"text-align: right;\">\n",
       "      <th></th>\n",
       "      <th>author</th>\n",
       "      <th>datePublished</th>\n",
       "      <th>reviewRating</th>\n",
       "      <th>description</th>\n",
       "    </tr>\n",
       "  </thead>\n",
       "  <tbody>\n",
       "    <tr>\n",
       "      <th>0</th>\n",
       "      <td>Tyson L.</td>\n",
       "      <td>2021-06-26</td>\n",
       "      <td>5</td>\n",
       "      <td>Rarely will you find MeeT empty  an arbitrary ...</td>\n",
       "    </tr>\n",
       "    <tr>\n",
       "      <th>1</th>\n",
       "      <td>Melissa E.</td>\n",
       "      <td>2021-10-09</td>\n",
       "      <td>4</td>\n",
       "      <td>Im not a vegan but I love trying innovative ve...</td>\n",
       "    </tr>\n",
       "    <tr>\n",
       "      <th>2</th>\n",
       "      <td>Matt B.</td>\n",
       "      <td>2021-07-30</td>\n",
       "      <td>4</td>\n",
       "      <td>Im much more sold on this place nowadays I ord...</td>\n",
       "    </tr>\n",
       "    <tr>\n",
       "      <th>3</th>\n",
       "      <td>Jill N.</td>\n",
       "      <td>2021-03-18</td>\n",
       "      <td>5</td>\n",
       "      <td>Went here for St Patties Day Our server Derek ...</td>\n",
       "    </tr>\n",
       "    <tr>\n",
       "      <th>4</th>\n",
       "      <td>Maling S.</td>\n",
       "      <td>2020-09-17</td>\n",
       "      <td>5</td>\n",
       "      <td>Sept 17 and went with my brother for vegan foo...</td>\n",
       "    </tr>\n",
       "    <tr>\n",
       "      <th>5</th>\n",
       "      <td>Dana S.</td>\n",
       "      <td>2021-02-18</td>\n",
       "      <td>5</td>\n",
       "      <td>Ive ordered takeout from the Yaletown location...</td>\n",
       "    </tr>\n",
       "    <tr>\n",
       "      <th>6</th>\n",
       "      <td>Michelle H.</td>\n",
       "      <td>2020-05-08</td>\n",
       "      <td>4</td>\n",
       "      <td>I havent had this is YEARS I used to be SO obs...</td>\n",
       "    </tr>\n",
       "    <tr>\n",
       "      <th>7</th>\n",
       "      <td>Jasmine Y.</td>\n",
       "      <td>2021-09-15</td>\n",
       "      <td>5</td>\n",
       "      <td>Ordered takeout online to the Main Street loca...</td>\n",
       "    </tr>\n",
       "    <tr>\n",
       "      <th>8</th>\n",
       "      <td>Aaron W.</td>\n",
       "      <td>2021-05-24</td>\n",
       "      <td>1</td>\n",
       "      <td>Saw 3 patio tables empty and barely any line u...</td>\n",
       "    </tr>\n",
       "    <tr>\n",
       "      <th>9</th>\n",
       "      <td>Jennifer B.</td>\n",
       "      <td>2020-03-12</td>\n",
       "      <td>5</td>\n",
       "      <td>Love the MeeT restaurants in Vancouver Ive eat...</td>\n",
       "    </tr>\n",
       "    <tr>\n",
       "      <th>10</th>\n",
       "      <td>Purple Z.</td>\n",
       "      <td>2021-08-10</td>\n",
       "      <td>5</td>\n",
       "      <td>Ive been a couple times to the restaurant in G...</td>\n",
       "    </tr>\n",
       "    <tr>\n",
       "      <th>11</th>\n",
       "      <td>Niall O.</td>\n",
       "      <td>2021-09-29</td>\n",
       "      <td>3</td>\n",
       "      <td>The staff all seemed really nice and their was...</td>\n",
       "    </tr>\n",
       "    <tr>\n",
       "      <th>12</th>\n",
       "      <td>Chloe C.</td>\n",
       "      <td>2020-09-11</td>\n",
       "      <td>5</td>\n",
       "      <td>I probably wont be dining out as often since s...</td>\n",
       "    </tr>\n",
       "    <tr>\n",
       "      <th>13</th>\n",
       "      <td>John R.</td>\n",
       "      <td>2021-02-02</td>\n",
       "      <td>3</td>\n",
       "      <td>I used love MeeT on Main I order MeeT via door...</td>\n",
       "    </tr>\n",
       "    <tr>\n",
       "      <th>14</th>\n",
       "      <td>Norman S.</td>\n",
       "      <td>2020-02-25</td>\n",
       "      <td>4</td>\n",
       "      <td>Never thought vegetarian food could taste this...</td>\n",
       "    </tr>\n",
       "    <tr>\n",
       "      <th>15</th>\n",
       "      <td>Elsa C.</td>\n",
       "      <td>2020-01-31</td>\n",
       "      <td>3</td>\n",
       "      <td>It was a rainy Friday in January A group of 8 ...</td>\n",
       "    </tr>\n",
       "    <tr>\n",
       "      <th>16</th>\n",
       "      <td>Chef D.</td>\n",
       "      <td>2020-09-24</td>\n",
       "      <td>4</td>\n",
       "      <td>This spot always serves up the yummiest vegan ...</td>\n",
       "    </tr>\n",
       "    <tr>\n",
       "      <th>17</th>\n",
       "      <td>Patrick F.</td>\n",
       "      <td>2021-01-27</td>\n",
       "      <td>5</td>\n",
       "      <td>A great selection of Vegan food The sweet chil...</td>\n",
       "    </tr>\n",
       "    <tr>\n",
       "      <th>18</th>\n",
       "      <td>Autumn M.</td>\n",
       "      <td>2021-04-08</td>\n",
       "      <td>5</td>\n",
       "      <td>Its taken me way too long to review this place...</td>\n",
       "    </tr>\n",
       "    <tr>\n",
       "      <th>19</th>\n",
       "      <td>A. W.</td>\n",
       "      <td>2021-07-31</td>\n",
       "      <td>2</td>\n",
       "      <td>Why is the service here so poor The food is ok...</td>\n",
       "    </tr>\n",
       "  </tbody>\n",
       "</table>\n",
       "</div>"
      ],
      "text/plain": [
       "         author datePublished  reviewRating  \\\n",
       "0      Tyson L.    2021-06-26             5   \n",
       "1    Melissa E.    2021-10-09             4   \n",
       "2       Matt B.    2021-07-30             4   \n",
       "3       Jill N.    2021-03-18             5   \n",
       "4     Maling S.    2020-09-17             5   \n",
       "5       Dana S.    2021-02-18             5   \n",
       "6   Michelle H.    2020-05-08             4   \n",
       "7    Jasmine Y.    2021-09-15             5   \n",
       "8      Aaron W.    2021-05-24             1   \n",
       "9   Jennifer B.    2020-03-12             5   \n",
       "10    Purple Z.    2021-08-10             5   \n",
       "11     Niall O.    2021-09-29             3   \n",
       "12     Chloe C.    2020-09-11             5   \n",
       "13      John R.    2021-02-02             3   \n",
       "14    Norman S.    2020-02-25             4   \n",
       "15      Elsa C.    2020-01-31             3   \n",
       "16      Chef D.    2020-09-24             4   \n",
       "17   Patrick F.    2021-01-27             5   \n",
       "18    Autumn M.    2021-04-08             5   \n",
       "19        A. W.    2021-07-31             2   \n",
       "\n",
       "                                          description  \n",
       "0   Rarely will you find MeeT empty  an arbitrary ...  \n",
       "1   Im not a vegan but I love trying innovative ve...  \n",
       "2   Im much more sold on this place nowadays I ord...  \n",
       "3   Went here for St Patties Day Our server Derek ...  \n",
       "4   Sept 17 and went with my brother for vegan foo...  \n",
       "5   Ive ordered takeout from the Yaletown location...  \n",
       "6   I havent had this is YEARS I used to be SO obs...  \n",
       "7   Ordered takeout online to the Main Street loca...  \n",
       "8   Saw 3 patio tables empty and barely any line u...  \n",
       "9   Love the MeeT restaurants in Vancouver Ive eat...  \n",
       "10  Ive been a couple times to the restaurant in G...  \n",
       "11  The staff all seemed really nice and their was...  \n",
       "12  I probably wont be dining out as often since s...  \n",
       "13  I used love MeeT on Main I order MeeT via door...  \n",
       "14  Never thought vegetarian food could taste this...  \n",
       "15  It was a rainy Friday in January A group of 8 ...  \n",
       "16  This spot always serves up the yummiest vegan ...  \n",
       "17  A great selection of Vegan food The sweet chil...  \n",
       "18  Its taken me way too long to review this place...  \n",
       "19  Why is the service here so poor The food is ok...  "
      ]
     },
     "execution_count": 138,
     "metadata": {},
     "output_type": "execute_result"
    }
   ],
   "source": [
    "yelp_df = pd.DataFrame.from_dict(reviews)\n",
    "yelp_df['reviewRating'] = yelp_df['reviewRating'].apply(get_rating)\n",
    "yelp_df['description'] = yelp_df['description'].apply(clean_sent)\n",
    "yelp_df"
   ]
  },
  {
   "cell_type": "code",
   "execution_count": 141,
   "metadata": {},
   "outputs": [],
   "source": [
    "yelp_df.to_csv('yelp_revs.csv', index=False)"
   ]
  }
 ],
 "metadata": {
  "kernelspec": {
   "display_name": "Python 3",
   "language": "python",
   "name": "python3"
  },
  "language_info": {
   "codemirror_mode": {
    "name": "ipython",
    "version": 3
   },
   "file_extension": ".py",
   "mimetype": "text/x-python",
   "name": "python",
   "nbconvert_exporter": "python",
   "pygments_lexer": "ipython3",
   "version": "3.8.3"
  }
 },
 "nbformat": 4,
 "nbformat_minor": 4
}
