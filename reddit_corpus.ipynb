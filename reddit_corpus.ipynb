{
 "cells": [
  {
   "cell_type": "markdown",
   "metadata": {},
   "source": [
    "## Load libraries and create a Reddit instance"
   ]
  },
  {
   "cell_type": "code",
   "execution_count": 160,
   "metadata": {},
   "outputs": [],
   "source": [
    "import praw\n",
    "import pandas as pd\n",
    "import numpy as np\n",
    "import json"
   ]
  },
  {
   "cell_type": "code",
   "execution_count": 10,
   "metadata": {},
   "outputs": [],
   "source": [
    "reddit = praw.Reddit(client_id='2si9BAZhYp5aJQ', client_secret='1oG2S239h-dYs2YjSHgilKiTLanyag', user_agent='WebScraping', username='jpurquico', password='Whatever.0628')"
   ]
  },
  {
   "cell_type": "code",
   "execution_count": 10,
   "metadata": {},
   "outputs": [],
   "source": [
    "\"\"\"\n",
    "hot_nosleep = []\n",
    "nosleep = reddit.subreddit('NoSleep').hot(limit=1000)\n",
    "for post in nosleep:\n",
    "    if post.selftext == \"\":\n",
    "        pass\n",
    "    else:\n",
    "        hot_nosleep.append({'title': post.title, \n",
    "                            'text_body':post.selftext,\n",
    "                            'author': post.author,\n",
    "                            'id': post.id,\n",
    "                            'num_comments': post.num_comments,\n",
    "                            'url': post.url,\n",
    "                            'upvote_ratio': post.upvote_ratio,\n",
    "                            'score': post.score})\n",
    "\"\"\""
   ]
  },
  {
   "cell_type": "markdown",
   "metadata": {},
   "source": [
    "## Create a reddit object and mine posts"
   ]
  },
  {
   "cell_type": "code",
   "execution_count": 18,
   "metadata": {},
   "outputs": [],
   "source": [
    "nosleep = reddit.subreddit('NoSleep').hot(limit=100)\n",
    "nosleep_dict = {\"title\":[],\n",
    "                \"score\":[],\n",
    "                \"id\":[],\n",
    "                \"url\":[],\n",
    "                \"num_comments\": [],\n",
    "                \"created\": [],\n",
    "                \"body\":[], \n",
    "                \"author\": [],\n",
    "                \"upvote_ratio\": []}\n",
    "\n",
    "for post in nosleep:\n",
    "    if post.selftext == \"\":\n",
    "        pass\n",
    "    else:\n",
    "        nosleep_dict['title'].append(post.title) \n",
    "        nosleep_dict['body'].append(post.selftext)\n",
    "        nosleep_dict['author'].append(post.author)\n",
    "        nosleep_dict['id'].append(post.id)\n",
    "        nosleep_dict['num_comments'].append(post.num_comments)\n",
    "        nosleep_dict['url'].append(post.url)\n",
    "        nosleep_dict['upvote_ratio'].append(post.upvote_ratio)\n",
    "        nosleep_dict['score'].append(post.score)\n",
    "        nosleep_dict['created'].append(post.created)"
   ]
  },
  {
   "cell_type": "code",
   "execution_count": 19,
   "metadata": {},
   "outputs": [],
   "source": [
    "nosleep_df = pd.DataFrame(nosleep_dict)"
   ]
  },
  {
   "cell_type": "code",
   "execution_count": 20,
   "metadata": {},
   "outputs": [
    {
     "data": {
      "text/plain": [
       "0     We knew we could only ever have one. Wasn’t ev...\n",
       "1      “We’ve been at this for days. Isn’t it shrive...\n",
       "2     I gripped the steering wheel so tightly my knu...\n",
       "3     My parents had both died in a car crash and I ...\n",
       "4     We called it snuff in my day, but I figured I'...\n",
       "                            ...                        \n",
       "93    I don’t remember the house in Zugdidi, the civ...\n",
       "94    I groggily drove my truck through downtown Ral...\n",
       "95    Part 1: https://www.reddit.com/r/nosleep/comme...\n",
       "96      \\n\\nThere is no metaphor about this, people....\n",
       "97    A few weeks ago I started to have a toothache....\n",
       "Name: body, Length: 98, dtype: object"
      ]
     },
     "execution_count": 20,
     "metadata": {},
     "output_type": "execute_result"
    }
   ],
   "source": [
    "nosleep_df['body']"
   ]
  },
  {
   "cell_type": "markdown",
   "metadata": {},
   "source": [
    "## Make a function to facilitate mining"
   ]
  },
  {
   "cell_type": "code",
   "execution_count": 147,
   "metadata": {},
   "outputs": [],
   "source": [
    "def subreddit_to_dict(subreddit, title_only=False):\n",
    "    dummy_dict = {\"title\":[],\n",
    "                \"score\":[],\n",
    "                \"id\":[],\n",
    "                \"url\":[],\n",
    "                \"num_comments\": [],\n",
    "                \"created\": [],\n",
    "                \"body\":[], \n",
    "                \"author\": [],\n",
    "                \"upvote_ratio\": []}\n",
    "    \n",
    "    for post in subreddit:\n",
    "        if title_only:\n",
    "            dummy_dict['title'].append(post.title) \n",
    "            dummy_dict['body'].append(post.selftext)\n",
    "            dummy_dict['author'].append(post.author)\n",
    "            dummy_dict['id'].append(post.id)\n",
    "            dummy_dict['num_comments'].append(post.num_comments)\n",
    "            dummy_dict['url'].append(post.url)\n",
    "            dummy_dict['upvote_ratio'].append(post.upvote_ratio)\n",
    "            dummy_dict['score'].append(post.score)\n",
    "            dummy_dict['created'].append(post.created)\n",
    "        else:\n",
    "            if post.selftext == \"\":\n",
    "                pass\n",
    "            else:\n",
    "                dummy_dict['title'].append(post.title) \n",
    "                dummy_dict['body'].append(post.selftext)\n",
    "                dummy_dict['author'].append(post.author)\n",
    "                dummy_dict['id'].append(post.id)\n",
    "                dummy_dict['num_comments'].append(post.num_comments)\n",
    "                dummy_dict['url'].append(post.url)\n",
    "                dummy_dict['upvote_ratio'].append(post.upvote_ratio)\n",
    "                dummy_dict['score'].append(post.score)\n",
    "                dummy_dict['created'].append(post.created)\n",
    "            \n",
    "    \n",
    "    return dummy_dict"
   ]
  },
  {
   "cell_type": "code",
   "execution_count": 148,
   "metadata": {},
   "outputs": [],
   "source": [
    "canada = reddit.subreddit('canada').hot(limit=25)"
   ]
  },
  {
   "cell_type": "code",
   "execution_count": 149,
   "metadata": {},
   "outputs": [],
   "source": [
    "canada_dict = subreddit_to_dict(canada, title_only=True)"
   ]
  },
  {
   "cell_type": "code",
   "execution_count": 150,
   "metadata": {},
   "outputs": [],
   "source": [
    "canada_df = pd.DataFrame(canada_dict)"
   ]
  },
  {
   "cell_type": "code",
   "execution_count": 153,
   "metadata": {},
   "outputs": [
    {
     "data": {
      "text/html": [
       "<div>\n",
       "<style scoped>\n",
       "    .dataframe tbody tr th:only-of-type {\n",
       "        vertical-align: middle;\n",
       "    }\n",
       "\n",
       "    .dataframe tbody tr th {\n",
       "        vertical-align: top;\n",
       "    }\n",
       "\n",
       "    .dataframe thead th {\n",
       "        text-align: right;\n",
       "    }\n",
       "</style>\n",
       "<table border=\"1\" class=\"dataframe\">\n",
       "  <thead>\n",
       "    <tr style=\"text-align: right;\">\n",
       "      <th></th>\n",
       "      <th>title</th>\n",
       "      <th>score</th>\n",
       "      <th>id</th>\n",
       "      <th>url</th>\n",
       "      <th>num_comments</th>\n",
       "      <th>created</th>\n",
       "      <th>body</th>\n",
       "      <th>author</th>\n",
       "      <th>upvote_ratio</th>\n",
       "    </tr>\n",
       "  </thead>\n",
       "  <tbody>\n",
       "    <tr>\n",
       "      <th>0</th>\n",
       "      <td>COVID-19 Health &amp; Support Megathread #9 - REMI...</td>\n",
       "      <td>288</td>\n",
       "      <td>nbxior</td>\n",
       "      <td>https://www.reddit.com/r/canada/comments/nbxio...</td>\n",
       "      <td>273</td>\n",
       "      <td>1.620957e+09</td>\n",
       "      <td>Canada is now faced with its third wave impact...</td>\n",
       "      <td>medym</td>\n",
       "      <td>0.91</td>\n",
       "    </tr>\n",
       "    <tr>\n",
       "      <th>1</th>\n",
       "      <td>2021 Olympics Megathread</td>\n",
       "      <td>166</td>\n",
       "      <td>orbf0z</td>\n",
       "      <td>https://www.reddit.com/r/canada/comments/orbf0...</td>\n",
       "      <td>303</td>\n",
       "      <td>1.627219e+09</td>\n",
       "      <td>It's the 2021 Olympics finally! This thread is...</td>\n",
       "      <td>Evilbred</td>\n",
       "      <td>0.80</td>\n",
       "    </tr>\n",
       "    <tr>\n",
       "      <th>2</th>\n",
       "      <td>Moderna to sign agreement to build MRNA produc...</td>\n",
       "      <td>716</td>\n",
       "      <td>p1o95n</td>\n",
       "      <td>https://www.cbc.ca/news/politics/moderna-plant...</td>\n",
       "      <td>164</td>\n",
       "      <td>1.628599e+09</td>\n",
       "      <td></td>\n",
       "      <td>morenewsat11</td>\n",
       "      <td>0.93</td>\n",
       "    </tr>\n",
       "    <tr>\n",
       "      <th>3</th>\n",
       "      <td>Jagmeet Singh tells Justin Trudeau not to call...</td>\n",
       "      <td>440</td>\n",
       "      <td>p1nz6q</td>\n",
       "      <td>https://www.thestar.com/politics/federal/2021/...</td>\n",
       "      <td>416</td>\n",
       "      <td>1.628598e+09</td>\n",
       "      <td></td>\n",
       "      <td>sleipnir45</td>\n",
       "      <td>0.92</td>\n",
       "    </tr>\n",
       "    <tr>\n",
       "      <th>4</th>\n",
       "      <td>O'Toole warns Canadians not safe in China afte...</td>\n",
       "      <td>111</td>\n",
       "      <td>p1vdas</td>\n",
       "      <td>https://ca.news.yahoo.com/otoole-warns-canadia...</td>\n",
       "      <td>108</td>\n",
       "      <td>1.628621e+09</td>\n",
       "      <td></td>\n",
       "      <td>FancyNewMe</td>\n",
       "      <td>0.91</td>\n",
       "    </tr>\n",
       "  </tbody>\n",
       "</table>\n",
       "</div>"
      ],
      "text/plain": [
       "                                               title  score      id  \\\n",
       "0  COVID-19 Health & Support Megathread #9 - REMI...    288  nbxior   \n",
       "1                           2021 Olympics Megathread    166  orbf0z   \n",
       "2  Moderna to sign agreement to build MRNA produc...    716  p1o95n   \n",
       "3  Jagmeet Singh tells Justin Trudeau not to call...    440  p1nz6q   \n",
       "4  O'Toole warns Canadians not safe in China afte...    111  p1vdas   \n",
       "\n",
       "                                                 url  num_comments  \\\n",
       "0  https://www.reddit.com/r/canada/comments/nbxio...           273   \n",
       "1  https://www.reddit.com/r/canada/comments/orbf0...           303   \n",
       "2  https://www.cbc.ca/news/politics/moderna-plant...           164   \n",
       "3  https://www.thestar.com/politics/federal/2021/...           416   \n",
       "4  https://ca.news.yahoo.com/otoole-warns-canadia...           108   \n",
       "\n",
       "        created                                               body  \\\n",
       "0  1.620957e+09  Canada is now faced with its third wave impact...   \n",
       "1  1.627219e+09  It's the 2021 Olympics finally! This thread is...   \n",
       "2  1.628599e+09                                                      \n",
       "3  1.628598e+09                                                      \n",
       "4  1.628621e+09                                                      \n",
       "\n",
       "         author  upvote_ratio  \n",
       "0         medym          0.91  \n",
       "1      Evilbred          0.80  \n",
       "2  morenewsat11          0.93  \n",
       "3    sleipnir45          0.92  \n",
       "4    FancyNewMe          0.91  "
      ]
     },
     "execution_count": 153,
     "metadata": {},
     "output_type": "execute_result"
    }
   ],
   "source": [
    "canada_df.head()"
   ]
  },
  {
   "cell_type": "code",
   "execution_count": 158,
   "metadata": {},
   "outputs": [],
   "source": [
    "canada_titles = list(canada_df['title'])"
   ]
  },
  {
   "cell_type": "code",
   "execution_count": 167,
   "metadata": {},
   "outputs": [],
   "source": [
    "with open(\"titles.json\", 'w') as jsonf:\n",
    "    json.dump(canada_titles, jsonf)"
   ]
  },
  {
   "cell_type": "code",
   "execution_count": null,
   "metadata": {},
   "outputs": [],
   "source": []
  }
 ],
 "metadata": {
  "kernelspec": {
   "display_name": "Python 3",
   "language": "python",
   "name": "python3"
  },
  "language_info": {
   "codemirror_mode": {
    "name": "ipython",
    "version": 3
   },
   "file_extension": ".py",
   "mimetype": "text/x-python",
   "name": "python",
   "nbconvert_exporter": "python",
   "pygments_lexer": "ipython3",
   "version": "3.8.3"
  }
 },
 "nbformat": 4,
 "nbformat_minor": 4
}
