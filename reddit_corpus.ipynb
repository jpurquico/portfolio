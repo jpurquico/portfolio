{
 "cells": [
  {
   "cell_type": "markdown",
   "metadata": {},
   "source": [
    "## Load libraries and create a Reddit instance"
   ]
  },
  {
   "cell_type": "code",
   "execution_count": 1,
   "metadata": {},
   "outputs": [
    {
     "name": "stderr",
     "output_type": "stream",
     "text": [
      "C:\\Users\\Jan\\miniconda3\\lib\\site-packages\\requests\\__init__.py:89: RequestsDependencyWarning: urllib3 (1.26.7) or chardet (3.0.4) doesn't match a supported version!\n",
      "  warnings.warn(\"urllib3 ({}) or chardet ({}) doesn't match a supported \"\n"
     ]
    }
   ],
   "source": [
    "import praw\n",
    "import pandas as pd\n",
    "import numpy as np\n",
    "import json"
   ]
  },
  {
   "cell_type": "code",
   "execution_count": 2,
   "metadata": {},
   "outputs": [],
   "source": [
    "reddit = praw.Reddit(client_id='2si9BAZhYp5aJQ', client_secret='1oG2S239h-dYs2YjSHgilKiTLanyag', user_agent='WebScraping', username='jpurquico', password='Whatever.0628')"
   ]
  },
  {
   "cell_type": "code",
   "execution_count": 10,
   "metadata": {},
   "outputs": [],
   "source": [
    "\"\"\"\n",
    "hot_nosleep = []\n",
    "nosleep = reddit.subreddit('NoSleep').hot(limit=1000)\n",
    "for post in nosleep:\n",
    "    if post.selftext == \"\":\n",
    "        pass\n",
    "    else:\n",
    "        hot_nosleep.append({'title': post.title, \n",
    "                            'text_body':post.selftext,\n",
    "                            'author': post.author,\n",
    "                            'id': post.id,\n",
    "                            'num_comments': post.num_comments,\n",
    "                            'url': post.url,\n",
    "                            'upvote_ratio': post.upvote_ratio,\n",
    "                            'score': post.score})\n",
    "\"\"\""
   ]
  },
  {
   "cell_type": "markdown",
   "metadata": {},
   "source": [
    "## Create a Reddit object and get posts"
   ]
  },
  {
   "cell_type": "code",
   "execution_count": 68,
   "metadata": {},
   "outputs": [],
   "source": [
    "nosleep = reddit.subreddit('NoSleep').hot(limit=100)\n",
    "nosleep_dict = {\"title\":[],\n",
    "                \"score\":[],\n",
    "                \"id\":[],\n",
    "                \"url\":[],\n",
    "                \"num_comments\": [],\n",
    "                \"created\": [],\n",
    "                \"body\":[], \n",
    "                \"author\": [],\n",
    "                \"upvote_ratio\": []}\n",
    "\n",
    "for post in nosleep:\n",
    "    if post.selftext == \"\":\n",
    "        continue\n",
    "    else:\n",
    "        pass\n",
    "    \n",
    "    nosleep_dict['title'].append(post.title) \n",
    "    nosleep_dict['body'].append(post.selftext)\n",
    "    nosleep_dict['author'].append(post.author)\n",
    "    nosleep_dict['id'].append(post.id)\n",
    "    nosleep_dict['num_comments'].append(post.num_comments)\n",
    "    nosleep_dict['url'].append(post.url)\n",
    "    nosleep_dict['upvote_ratio'].append(post.upvote_ratio)\n",
    "    nosleep_dict['score'].append(post.score)\n",
    "    nosleep_dict['created'].append(post.created)"
   ]
  },
  {
   "cell_type": "code",
   "execution_count": 69,
   "metadata": {},
   "outputs": [],
   "source": [
    "nosleep_df = pd.DataFrame(nosleep_dict)"
   ]
  },
  {
   "cell_type": "code",
   "execution_count": 70,
   "metadata": {},
   "outputs": [
    {
     "data": {
      "text/plain": [
       "0     Hello everyone!\\n\\nI’m sure you’re all very aw...\n",
       "1     I'm sorry if this is all over the place. This ...\n",
       "2     Elvis dove beneath the altar as the keyboardis...\n",
       "3     Hello.\\n\\nI've never talked about my personal ...\n",
       "4     The morning after I brought mom's ashes back f...\n",
       "                            ...                        \n",
       "93    I visited the relatives of my mother in Sikkim...\n",
       "94    I barely noticed the letter peeking out of the...\n",
       "95    ((August 2021))\\n\\nEmergency Operations, Digit...\n",
       "96    [Part 1](https://www.reddit.com/r/nosleep/comm...\n",
       "97    [Part 1](https://www.reddit.com/r/nosleep/comm...\n",
       "Name: body, Length: 98, dtype: object"
      ]
     },
     "execution_count": 70,
     "metadata": {},
     "output_type": "execute_result"
    }
   ],
   "source": [
    "nosleep_df['body']"
   ]
  },
  {
   "cell_type": "markdown",
   "metadata": {},
   "source": [
    "## Make a function to facilitate mining"
   ]
  },
  {
   "cell_type": "code",
   "execution_count": 113,
   "metadata": {},
   "outputs": [],
   "source": [
    "def subreddit_to_dict(subreddit, mod_list, body=True):\n",
    "    dummy_dict = {\"title\":[],\n",
    "                \"score\":[],\n",
    "                \"id\":[],\n",
    "                \"url\":[],\n",
    "                \"num_comments\": [],\n",
    "                #\"created\": [],\n",
    "                \"body\":[], \n",
    "                \"author\": [],\n",
    "                \"upvote_ratio\": []}\n",
    "    \n",
    "    for post in subreddit:\n",
    "        if post.author in mod_list:  ## remove posts by subreddit mods\n",
    "            continue\n",
    "        elif body:\n",
    "            if post.selftext == \"\":\n",
    "                continue\n",
    "            else:\n",
    "                pass\n",
    "                \n",
    "        dummy_dict['title'].append(post.title) \n",
    "        dummy_dict['body'].append(post.selftext)\n",
    "        dummy_dict['author'].append(post.author)\n",
    "        dummy_dict['id'].append(post.id)\n",
    "        dummy_dict['num_comments'].append(post.num_comments)\n",
    "        dummy_dict['url'].append(post.url)\n",
    "        dummy_dict['upvote_ratio'].append(post.upvote_ratio)\n",
    "        dummy_dict['score'].append(post.score)\n",
    "        #dummy_dict['created'].append(post.created_utc)\n",
    "    \n",
    "    return dummy_dict"
   ]
  },
  {
   "cell_type": "code",
   "execution_count": 107,
   "metadata": {},
   "outputs": [],
   "source": [
    "def get_hot(sub, limit=100, body=False):\n",
    "    subreddit = reddit.subreddit(sub)\n",
    "    hot = subreddit.hot(limit=limit)\n",
    "    mod_list = [mod for mod in subreddit.moderator()]\n",
    "    \n",
    "    return subreddit_to_dict(hot, mod_list=mod_list, body=body)"
   ]
  },
  {
   "cell_type": "code",
   "execution_count": 108,
   "metadata": {},
   "outputs": [],
   "source": [
    "canada_dict = get_hot('canada')"
   ]
  },
  {
   "cell_type": "code",
   "execution_count": 109,
   "metadata": {},
   "outputs": [],
   "source": [
    "canada_df = pd.DataFrame(canada_dict)"
   ]
  },
  {
   "cell_type": "code",
   "execution_count": 110,
   "metadata": {},
   "outputs": [
    {
     "data": {
      "text/html": [
       "<div>\n",
       "<style scoped>\n",
       "    .dataframe tbody tr th:only-of-type {\n",
       "        vertical-align: middle;\n",
       "    }\n",
       "\n",
       "    .dataframe tbody tr th {\n",
       "        vertical-align: top;\n",
       "    }\n",
       "\n",
       "    .dataframe thead th {\n",
       "        text-align: right;\n",
       "    }\n",
       "</style>\n",
       "<table border=\"1\" class=\"dataframe\">\n",
       "  <thead>\n",
       "    <tr style=\"text-align: right;\">\n",
       "      <th></th>\n",
       "      <th>title</th>\n",
       "      <th>score</th>\n",
       "      <th>id</th>\n",
       "      <th>url</th>\n",
       "      <th>num_comments</th>\n",
       "      <th>body</th>\n",
       "      <th>author</th>\n",
       "      <th>upvote_ratio</th>\n",
       "    </tr>\n",
       "  </thead>\n",
       "  <tbody>\n",
       "    <tr>\n",
       "      <th>0</th>\n",
       "      <td>Doug Ford announces new highway that will excl...</td>\n",
       "      <td>645</td>\n",
       "      <td>qsb1kh</td>\n",
       "      <td>https://www.thebeaverton.com/2021/11/doug-ford...</td>\n",
       "      <td>56</td>\n",
       "      <td></td>\n",
       "      <td>RoutineProcedure</td>\n",
       "      <td>0.89</td>\n",
       "    </tr>\n",
       "    <tr>\n",
       "      <th>1</th>\n",
       "      <td>RMS Queen ELIZABETH pulling in New York w US a...</td>\n",
       "      <td>3894</td>\n",
       "      <td>qs0yj3</td>\n",
       "      <td>https://i.redd.it/xnu8bayrp2z71.jpg</td>\n",
       "      <td>157</td>\n",
       "      <td></td>\n",
       "      <td>developbc</td>\n",
       "      <td>0.98</td>\n",
       "    </tr>\n",
       "    <tr>\n",
       "      <th>2</th>\n",
       "      <td>Toronto school board rejects Marie Henein book...</td>\n",
       "      <td>363</td>\n",
       "      <td>qsb7tq</td>\n",
       "      <td>https://www.theglobeandmail.com/canada/article...</td>\n",
       "      <td>257</td>\n",
       "      <td></td>\n",
       "      <td>PM_ME_DOMINATRIXES</td>\n",
       "      <td>0.91</td>\n",
       "    </tr>\n",
       "    <tr>\n",
       "      <th>3</th>\n",
       "      <td>Justin Trudeau calls for clearing cyberspace o...</td>\n",
       "      <td>277</td>\n",
       "      <td>qsaitf</td>\n",
       "      <td>https://nationalpost.com/news/politics/trudeau...</td>\n",
       "      <td>443</td>\n",
       "      <td></td>\n",
       "      <td>RoutineProcedure</td>\n",
       "      <td>0.72</td>\n",
       "    </tr>\n",
       "    <tr>\n",
       "      <th>4</th>\n",
       "      <td>To fight the opioid crisis, we must decriminal...</td>\n",
       "      <td>216</td>\n",
       "      <td>qsbp3u</td>\n",
       "      <td>https://ipolitics.ca/2021/11/11/to-fight-the-o...</td>\n",
       "      <td>180</td>\n",
       "      <td></td>\n",
       "      <td>sdbest</td>\n",
       "      <td>0.79</td>\n",
       "    </tr>\n",
       "  </tbody>\n",
       "</table>\n",
       "</div>"
      ],
      "text/plain": [
       "                                               title  score      id  \\\n",
       "0  Doug Ford announces new highway that will excl...    645  qsb1kh   \n",
       "1  RMS Queen ELIZABETH pulling in New York w US a...   3894  qs0yj3   \n",
       "2  Toronto school board rejects Marie Henein book...    363  qsb7tq   \n",
       "3  Justin Trudeau calls for clearing cyberspace o...    277  qsaitf   \n",
       "4  To fight the opioid crisis, we must decriminal...    216  qsbp3u   \n",
       "\n",
       "                                                 url  num_comments body  \\\n",
       "0  https://www.thebeaverton.com/2021/11/doug-ford...            56        \n",
       "1                https://i.redd.it/xnu8bayrp2z71.jpg           157        \n",
       "2  https://www.theglobeandmail.com/canada/article...           257        \n",
       "3  https://nationalpost.com/news/politics/trudeau...           443        \n",
       "4  https://ipolitics.ca/2021/11/11/to-fight-the-o...           180        \n",
       "\n",
       "               author  upvote_ratio  \n",
       "0    RoutineProcedure          0.89  \n",
       "1           developbc          0.98  \n",
       "2  PM_ME_DOMINATRIXES          0.91  \n",
       "3    RoutineProcedure          0.72  \n",
       "4              sdbest          0.79  "
      ]
     },
     "execution_count": 110,
     "metadata": {},
     "output_type": "execute_result"
    }
   ],
   "source": [
    "canada_df.head()"
   ]
  },
  {
   "cell_type": "code",
   "execution_count": 111,
   "metadata": {},
   "outputs": [
    {
     "data": {
      "text/plain": [
       "98"
      ]
     },
     "execution_count": 111,
     "metadata": {},
     "output_type": "execute_result"
    }
   ],
   "source": [
    "len(canada_df)"
   ]
  },
  {
   "cell_type": "code",
   "execution_count": 37,
   "metadata": {},
   "outputs": [],
   "source": [
    "canada_titles = list(canada_df['title'])"
   ]
  },
  {
   "cell_type": "code",
   "execution_count": 41,
   "metadata": {},
   "outputs": [],
   "source": [
    "with open(\"titles.json\", 'w') as jsonf:\n",
    "    json.dump(canada_titles, jsonf)"
   ]
  },
  {
   "cell_type": "markdown",
   "metadata": {},
   "source": [
    "## Reddit No Sleep"
   ]
  },
  {
   "cell_type": "code",
   "execution_count": 123,
   "metadata": {},
   "outputs": [],
   "source": [
    "nosleep_df = pd.DataFrame(get_hot('nosleep', limit=110, body=True))"
   ]
  },
  {
   "cell_type": "code",
   "execution_count": 124,
   "metadata": {},
   "outputs": [
    {
     "data": {
      "text/html": [
       "<div>\n",
       "<style scoped>\n",
       "    .dataframe tbody tr th:only-of-type {\n",
       "        vertical-align: middle;\n",
       "    }\n",
       "\n",
       "    .dataframe tbody tr th {\n",
       "        vertical-align: top;\n",
       "    }\n",
       "\n",
       "    .dataframe thead th {\n",
       "        text-align: right;\n",
       "    }\n",
       "</style>\n",
       "<table border=\"1\" class=\"dataframe\">\n",
       "  <thead>\n",
       "    <tr style=\"text-align: right;\">\n",
       "      <th></th>\n",
       "      <th>title</th>\n",
       "      <th>score</th>\n",
       "      <th>id</th>\n",
       "      <th>url</th>\n",
       "      <th>num_comments</th>\n",
       "      <th>body</th>\n",
       "      <th>author</th>\n",
       "      <th>upvote_ratio</th>\n",
       "    </tr>\n",
       "  </thead>\n",
       "  <tbody>\n",
       "    <tr>\n",
       "      <th>0</th>\n",
       "      <td>A lot of you people aren't following The Rules...</td>\n",
       "      <td>748</td>\n",
       "      <td>qs9qa8</td>\n",
       "      <td>https://www.reddit.com/r/nosleep/comments/qs9q...</td>\n",
       "      <td>48</td>\n",
       "      <td>Hello everyone!\\n\\nI’m sure you’re all very aw...</td>\n",
       "      <td>Zithero</td>\n",
       "      <td>0.97</td>\n",
       "    </tr>\n",
       "    <tr>\n",
       "      <th>1</th>\n",
       "      <td>I adopted a retired police dog. It might have ...</td>\n",
       "      <td>740</td>\n",
       "      <td>qs6byh</td>\n",
       "      <td>https://www.reddit.com/r/nosleep/comments/qs6b...</td>\n",
       "      <td>55</td>\n",
       "      <td>I'm sorry if this is all over the place. This ...</td>\n",
       "      <td>Salt-Adeptness-3133</td>\n",
       "      <td>0.96</td>\n",
       "    </tr>\n",
       "    <tr>\n",
       "      <th>2</th>\n",
       "      <td>Something is behind the bookshelf behind my bed.</td>\n",
       "      <td>30</td>\n",
       "      <td>qsebfg</td>\n",
       "      <td>https://www.reddit.com/r/nosleep/comments/qseb...</td>\n",
       "      <td>1</td>\n",
       "      <td>Hello.\\n\\nI've never talked about my personal ...</td>\n",
       "      <td>ashrachell</td>\n",
       "      <td>0.97</td>\n",
       "    </tr>\n",
       "    <tr>\n",
       "      <th>3</th>\n",
       "      <td>I'm at the end of my rope with my future mothe...</td>\n",
       "      <td>153</td>\n",
       "      <td>qs5skl</td>\n",
       "      <td>https://www.reddit.com/r/nosleep/comments/qs5s...</td>\n",
       "      <td>12</td>\n",
       "      <td>Elvis dove beneath the altar as the keyboardis...</td>\n",
       "      <td>lightingnations</td>\n",
       "      <td>0.95</td>\n",
       "    </tr>\n",
       "    <tr>\n",
       "      <th>4</th>\n",
       "      <td>Someone stole my mother's ashes and now I'm mi...</td>\n",
       "      <td>23</td>\n",
       "      <td>qsdfot</td>\n",
       "      <td>https://www.reddit.com/r/nosleep/comments/qsdf...</td>\n",
       "      <td>0</td>\n",
       "      <td>The morning after I brought mom's ashes back f...</td>\n",
       "      <td>donotshare</td>\n",
       "      <td>0.90</td>\n",
       "    </tr>\n",
       "    <tr>\n",
       "      <th>5</th>\n",
       "      <td>I found an old cellphone on my bus ride home. ...</td>\n",
       "      <td>1548</td>\n",
       "      <td>qrmhzz</td>\n",
       "      <td>https://www.reddit.com/r/nosleep/comments/qrmh...</td>\n",
       "      <td>42</td>\n",
       "      <td>\\n\\nI had just sat down for my ride home on th...</td>\n",
       "      <td>Colourblindness</td>\n",
       "      <td>0.97</td>\n",
       "    </tr>\n",
       "    <tr>\n",
       "      <th>6</th>\n",
       "      <td>Evil Breeds Evil</td>\n",
       "      <td>7</td>\n",
       "      <td>qsjitk</td>\n",
       "      <td>https://www.reddit.com/r/nosleep/comments/qsji...</td>\n",
       "      <td>1</td>\n",
       "      <td>In my first week teaching in a Chicago inner c...</td>\n",
       "      <td>BurntSchmidt</td>\n",
       "      <td>1.00</td>\n",
       "    </tr>\n",
       "    <tr>\n",
       "      <th>7</th>\n",
       "      <td>My name is Mike, and I run security for the Da...</td>\n",
       "      <td>84</td>\n",
       "      <td>qs2ckz</td>\n",
       "      <td>https://www.reddit.com/r/nosleep/comments/qs2c...</td>\n",
       "      <td>12</td>\n",
       "      <td>[Part 1](https://www.reddit.com/r/nosleep/comm...</td>\n",
       "      <td>cal_ness</td>\n",
       "      <td>0.94</td>\n",
       "    </tr>\n",
       "    <tr>\n",
       "      <th>8</th>\n",
       "      <td>When the time comes don't believe your local n...</td>\n",
       "      <td>734</td>\n",
       "      <td>qrn67y</td>\n",
       "      <td>https://www.reddit.com/r/nosleep/comments/qrn6...</td>\n",
       "      <td>21</td>\n",
       "      <td>Title says it all. I don't care what the docto...</td>\n",
       "      <td>twocantherapper</td>\n",
       "      <td>0.96</td>\n",
       "    </tr>\n",
       "    <tr>\n",
       "      <th>9</th>\n",
       "      <td>Any Advice? I Left the Bride's Sister at Home.</td>\n",
       "      <td>136</td>\n",
       "      <td>qrydfd</td>\n",
       "      <td>https://www.reddit.com/r/nosleep/comments/qryd...</td>\n",
       "      <td>13</td>\n",
       "      <td>I'm a little unsure of where to post this, so ...</td>\n",
       "      <td>tavvyj</td>\n",
       "      <td>0.94</td>\n",
       "    </tr>\n",
       "  </tbody>\n",
       "</table>\n",
       "</div>"
      ],
      "text/plain": [
       "                                               title  score      id  \\\n",
       "0  A lot of you people aren't following The Rules...    748  qs9qa8   \n",
       "1  I adopted a retired police dog. It might have ...    740  qs6byh   \n",
       "2   Something is behind the bookshelf behind my bed.     30  qsebfg   \n",
       "3  I'm at the end of my rope with my future mothe...    153  qs5skl   \n",
       "4  Someone stole my mother's ashes and now I'm mi...     23  qsdfot   \n",
       "5  I found an old cellphone on my bus ride home. ...   1548  qrmhzz   \n",
       "6                                   Evil Breeds Evil      7  qsjitk   \n",
       "7  My name is Mike, and I run security for the Da...     84  qs2ckz   \n",
       "8  When the time comes don't believe your local n...    734  qrn67y   \n",
       "9     Any Advice? I Left the Bride's Sister at Home.    136  qrydfd   \n",
       "\n",
       "                                                 url  num_comments  \\\n",
       "0  https://www.reddit.com/r/nosleep/comments/qs9q...            48   \n",
       "1  https://www.reddit.com/r/nosleep/comments/qs6b...            55   \n",
       "2  https://www.reddit.com/r/nosleep/comments/qseb...             1   \n",
       "3  https://www.reddit.com/r/nosleep/comments/qs5s...            12   \n",
       "4  https://www.reddit.com/r/nosleep/comments/qsdf...             0   \n",
       "5  https://www.reddit.com/r/nosleep/comments/qrmh...            42   \n",
       "6  https://www.reddit.com/r/nosleep/comments/qsji...             1   \n",
       "7  https://www.reddit.com/r/nosleep/comments/qs2c...            12   \n",
       "8  https://www.reddit.com/r/nosleep/comments/qrn6...            21   \n",
       "9  https://www.reddit.com/r/nosleep/comments/qryd...            13   \n",
       "\n",
       "                                                body               author  \\\n",
       "0  Hello everyone!\\n\\nI’m sure you’re all very aw...              Zithero   \n",
       "1  I'm sorry if this is all over the place. This ...  Salt-Adeptness-3133   \n",
       "2  Hello.\\n\\nI've never talked about my personal ...           ashrachell   \n",
       "3  Elvis dove beneath the altar as the keyboardis...      lightingnations   \n",
       "4  The morning after I brought mom's ashes back f...           donotshare   \n",
       "5  \\n\\nI had just sat down for my ride home on th...      Colourblindness   \n",
       "6  In my first week teaching in a Chicago inner c...         BurntSchmidt   \n",
       "7  [Part 1](https://www.reddit.com/r/nosleep/comm...             cal_ness   \n",
       "8  Title says it all. I don't care what the docto...      twocantherapper   \n",
       "9  I'm a little unsure of where to post this, so ...               tavvyj   \n",
       "\n",
       "   upvote_ratio  \n",
       "0          0.97  \n",
       "1          0.96  \n",
       "2          0.97  \n",
       "3          0.95  \n",
       "4          0.90  \n",
       "5          0.97  \n",
       "6          1.00  \n",
       "7          0.94  \n",
       "8          0.96  \n",
       "9          0.94  "
      ]
     },
     "execution_count": 124,
     "metadata": {},
     "output_type": "execute_result"
    }
   ],
   "source": [
    "nosleep_df.head(10)"
   ]
  },
  {
   "cell_type": "code",
   "execution_count": 122,
   "metadata": {},
   "outputs": [
    {
     "data": {
      "text/plain": [
       "108"
      ]
     },
     "execution_count": 122,
     "metadata": {},
     "output_type": "execute_result"
    }
   ],
   "source": [
    "len(nosleep_dict)"
   ]
  },
  {
   "cell_type": "code",
   "execution_count": 170,
   "metadata": {},
   "outputs": [],
   "source": [
    "nosleep_df.to_json('./data/nosleep.json', orient='columns', default_handler=str)"
   ]
  },
  {
   "cell_type": "code",
   "execution_count": 194,
   "metadata": {},
   "outputs": [],
   "source": [
    "ns_stories = []\n",
    "with open('data/nosleep.json') as jsonf:\n",
    "    ns_stories = list(json.load(jsonf)['body'].values())"
   ]
  },
  {
   "cell_type": "code",
   "execution_count": 295,
   "metadata": {},
   "outputs": [
    {
     "name": "stderr",
     "output_type": "stream",
     "text": [
      "[nltk_data] Downloading package averaged_perceptron_tagger to\n",
      "[nltk_data]     C:\\Users\\Jan\\AppData\\Roaming\\nltk_data...\n",
      "[nltk_data]   Package averaged_perceptron_tagger is already up-to-\n",
      "[nltk_data]       date!\n"
     ]
    },
    {
     "data": {
      "text/plain": [
       "True"
      ]
     },
     "execution_count": 295,
     "metadata": {},
     "output_type": "execute_result"
    }
   ],
   "source": [
    "import re\n",
    "from nltk import word_tokenize, WordNetLemmatizer\n",
    "from nltk.corpus import stopwords\n",
    "from collections import defaultdict\n",
    "from nltk import pos_tag\n",
    "import nltk\n",
    "nltk.download('averaged_perceptron_tagger')"
   ]
  },
  {
   "cell_type": "code",
   "execution_count": 253,
   "metadata": {},
   "outputs": [],
   "source": [
    "def clean_sent(sent):\n",
    "    cleaned_sent = re.sub(r\"[^\\w\\s]\", ' ', sent.replace('\\n', \" \"))\n",
    "    return cleaned_sent"
   ]
  },
  {
   "cell_type": "code",
   "execution_count": 263,
   "metadata": {},
   "outputs": [],
   "source": [
    "lemmatizer = WordNetLemmatizer()\n",
    "vocab = defaultdict(int)\n",
    "for story in ns_stories:\n",
    "    clean = clean_sent(story)\n",
    "    for word in word_tokenize(clean):\n",
    "        if word.isalpha():\n",
    "            if word.lower() not in stopwords.words('english'):\n",
    "                lemma = lemmatizer.lemmatize(word.lower())\n",
    "                vocab[lemma] += 1"
   ]
  },
  {
   "cell_type": "code",
   "execution_count": 264,
   "metadata": {},
   "outputs": [
    {
     "data": {
      "text/plain": [
       "108"
      ]
     },
     "execution_count": 264,
     "metadata": {},
     "output_type": "execute_result"
    }
   ],
   "source": [
    "len(ns_stories)"
   ]
  },
  {
   "cell_type": "code",
   "execution_count": 304,
   "metadata": {},
   "outputs": [],
   "source": [
    "tagged_words = pos_tag(list(vocab.keys()))\n",
    "nouns = []\n",
    "verbs = []\n",
    "modifiers = []\n",
    "other = []\n",
    "for word, tag in tagged_words:\n",
    "    if tag.startswith('N'):\n",
    "        nouns.append(word)\n",
    "    elif tag.startswith('V'):\n",
    "        verbs.append(word)\n",
    "    elif tag.startswith('J') or tag.startswith('R'):\n",
    "        modifiers.append(word)\n",
    "    else:\n",
    "        other.append(word)"
   ]
  },
  {
   "cell_type": "code",
   "execution_count": 271,
   "metadata": {},
   "outputs": [
    {
     "data": {
      "text/plain": [
       "12027"
      ]
     },
     "execution_count": 271,
     "metadata": {},
     "output_type": "execute_result"
    }
   ],
   "source": [
    "len(vocab)"
   ]
  },
  {
   "cell_type": "code",
   "execution_count": 313,
   "metadata": {},
   "outputs": [],
   "source": [
    "noun_dict = {}\n",
    "for noun in nouns:\n",
    "    noun_dict[noun] = vocab[noun]\n",
    "    \n",
    "verb_dict = {}\n",
    "for verb in verbs:\n",
    "    verb_dict[verb] = vocab[verb]\n",
    "    \n",
    "modifier_dict = {}\n",
    "for mod in modifiers:\n",
    "    modifier_dict[mod] = vocab[mod]"
   ]
  },
  {
   "cell_type": "code",
   "execution_count": 312,
   "metadata": {},
   "outputs": [
    {
     "data": {
      "text/plain": [
       "['time',\n",
       " 'eye',\n",
       " 'get',\n",
       " 'thing',\n",
       " 'something',\n",
       " 'room',\n",
       " 'way',\n",
       " 'head',\n",
       " 'hand',\n",
       " 'house']"
      ]
     },
     "execution_count": 312,
     "metadata": {},
     "output_type": "execute_result"
    }
   ],
   "source": [
    "sorted(noun_dict, key=noun_dict.get, reverse=True)[:10]"
   ]
  },
  {
   "cell_type": "code",
   "execution_count": 314,
   "metadata": {},
   "outputs": [
    {
     "data": {
      "text/plain": [
       "['know', 'see', 'said', 'got', 'looked', 'go', 'say', 'going', 'made', 'saw']"
      ]
     },
     "execution_count": 314,
     "metadata": {},
     "output_type": "execute_result"
    }
   ],
   "source": [
    "sorted(verb_dict, key=verb_dict.get, reverse=True)[:10]"
   ]
  },
  {
   "cell_type": "code",
   "execution_count": 315,
   "metadata": {},
   "outputs": [
    {
     "data": {
      "text/plain": [
       "['back',\n",
       " 'u',\n",
       " 'door',\n",
       " 'still',\n",
       " 'even',\n",
       " 'right',\n",
       " 'never',\n",
       " 'thought',\n",
       " 'away',\n",
       " 'first']"
      ]
     },
     "execution_count": 315,
     "metadata": {},
     "output_type": "execute_result"
    }
   ],
   "source": [
    "sorted(modifier_dict, key=modifier_dict.get, reverse=True)[:10]"
   ]
  },
  {
   "cell_type": "code",
   "execution_count": null,
   "metadata": {},
   "outputs": [],
   "source": []
  }
 ],
 "metadata": {
  "kernelspec": {
   "display_name": "Python 3",
   "language": "python",
   "name": "python3"
  },
  "language_info": {
   "codemirror_mode": {
    "name": "ipython",
    "version": 3
   },
   "file_extension": ".py",
   "mimetype": "text/x-python",
   "name": "python",
   "nbconvert_exporter": "python",
   "pygments_lexer": "ipython3",
   "version": "3.8.3"
  }
 },
 "nbformat": 4,
 "nbformat_minor": 4
}
