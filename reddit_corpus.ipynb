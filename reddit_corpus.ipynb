{
 "cells": [
  {
   "cell_type": "code",
   "execution_count": 25,
   "metadata": {},
   "outputs": [],
   "source": [
    "import praw\n",
    "import pandas as pd\n",
    "import numpy as np"
   ]
  },
  {
   "cell_type": "code",
   "execution_count": 7,
   "metadata": {},
   "outputs": [],
   "source": [
    "reddit = praw.Reddit(client_id='2si9BAZhYp5aJQ', client_secret='1oG2S239h-dYs2YjSHgilKiTLanyag', user_agent='WebScraping', username='jpurquico', password='Whatever.0628')"
   ]
  },
  {
   "cell_type": "code",
   "execution_count": 10,
   "metadata": {},
   "outputs": [],
   "source": [
    "\"\"\"\n",
    "hot_nosleep = []\n",
    "nosleep = reddit.subreddit('NoSleep').hot(limit=1000)\n",
    "for post in nosleep:\n",
    "    if post.selftext == \"\":\n",
    "        pass\n",
    "    else:\n",
    "        hot_nosleep.append({'title': post.title, \n",
    "                            'text_body':post.selftext,\n",
    "                            'author': post.author,\n",
    "                            'id': post.id,\n",
    "                            'num_comments': post.num_comments,\n",
    "                            'url': post.url,\n",
    "                            'upvote_ratio': post.upvote_ratio,\n",
    "                            'score': post.score})\n",
    "\"\"\""
   ]
  },
  {
   "cell_type": "code",
   "execution_count": 16,
   "metadata": {},
   "outputs": [],
   "source": [
    "nosleep = reddit.subreddit('NoSleep').hot(limit=1000)\n",
    "nosleep_dict = {\"title\":[],\n",
    "                \"score\":[],\n",
    "                \"id\":[],\n",
    "                \"url\":[],\n",
    "                \"num_comments\": [],\n",
    "                \"created\": [],\n",
    "                \"body\":[], \n",
    "                \"author\": [],\n",
    "                \"upvote_ratio\": []}\n",
    "\n",
    "for post in nosleep:\n",
    "    if post.selftext == \"\":\n",
    "        pass\n",
    "    else:\n",
    "        nosleep_dict['title'].append(post.title) \n",
    "        nosleep_dict['body'].append(post.selftext)\n",
    "        nosleep_dict['author'].append(post.author)\n",
    "        nosleep_dict['id'].append(post.id)\n",
    "        nosleep_dict['num_comments'].append(post.num_comments)\n",
    "        nosleep_dict['url'].append(post.url)\n",
    "        nosleep_dict['upvote_ratio'].append(post.upvote_ratio)\n",
    "        nosleep_dict['score'].append(post.score)\n",
    "        nosleep_dict['created'].append(post.created)"
   ]
  },
  {
   "cell_type": "code",
   "execution_count": 26,
   "metadata": {},
   "outputs": [],
   "source": [
    "nosleep_df = pd.DataFrame(nosleep_dict)"
   ]
  },
  {
   "cell_type": "code",
   "execution_count": 28,
   "metadata": {},
   "outputs": [
    {
     "data": {
      "text/plain": [
       "0      All the trouble I’ve caused, the pain, the dea...\n",
       "1      I’ve been friends with Art for a long time. We...\n",
       "2      I’m sure y’all are familiar with the stereotyp...\n",
       "3      My name is Amy and I'm a passenger on the Midn...\n",
       "4      live in a small unexciting town in western New...\n",
       "                             ...                        \n",
       "752    It’s almost like I’m lying on an operating tab...\n",
       "753    [Part 1](https://www.reddit.com/r/nosleep/comm...\n",
       "754    When I peeked out of my sister's window and sa...\n",
       "755    The first sentence of her Tinder bio read, “Pr...\n",
       "756    Last week I went to the beach with a friend. I...\n",
       "Name: body, Length: 757, dtype: object"
      ]
     },
     "execution_count": 28,
     "metadata": {},
     "output_type": "execute_result"
    }
   ],
   "source": [
    "nosleep_df['body']"
   ]
  },
  {
   "cell_type": "code",
   "execution_count": null,
   "metadata": {},
   "outputs": [],
   "source": []
  }
 ],
 "metadata": {
  "kernelspec": {
   "display_name": "Python 3",
   "language": "python",
   "name": "python3"
  },
  "language_info": {
   "codemirror_mode": {
    "name": "ipython",
    "version": 3
   },
   "file_extension": ".py",
   "mimetype": "text/x-python",
   "name": "python",
   "nbconvert_exporter": "python",
   "pygments_lexer": "ipython3",
   "version": "3.8.3"
  }
 },
 "nbformat": 4,
 "nbformat_minor": 4
}
