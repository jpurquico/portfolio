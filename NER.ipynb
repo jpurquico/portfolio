{
 "cells": [
  {
   "cell_type": "markdown",
   "metadata": {},
   "source": [
    "## Named Entity Recognition (NER) using Unlabeled Data"
   ]
  },
  {
   "cell_type": "markdown",
   "metadata": {},
   "source": [
    "Let's load the Reddit headlines corpus I made here [link]."
   ]
  },
  {
   "cell_type": "code",
   "execution_count": 23,
   "metadata": {},
   "outputs": [],
   "source": [
    "import json\n",
    "import pandas as pd\n",
    "#from pprint import pprint"
   ]
  },
  {
   "cell_type": "code",
   "execution_count": 3,
   "metadata": {},
   "outputs": [],
   "source": [
    "with open('titles.json') as fout:\n",
    "    titles = json.load(fout)"
   ]
  },
  {
   "cell_type": "code",
   "execution_count": 30,
   "metadata": {},
   "outputs": [
    {
     "data": {
      "text/plain": [
       "['COVID-19 Health & Support Megathread #9 - REMINDER: Follow local health orders and guidelines - stay safe - get vaccinated',\n",
       " 'Federal government to require vaccinations for all federal public servants, air and train passengers | CBC News',\n",
       " \"Ivison: Trudeau's about to call an election with no purpose — other than to gain more power\",\n",
       " \"I'm not an anti-vaxxer, I'm just refusing to get a life-saving vaccine during a global pandemic\",\n",
       " \"We are not anti-vaxxers': Concerns over side-effects, research among main reasons some Canadians are not getting COVID-19 vaccine\",\n",
       " 'Real estate: low-income condos bought by doctors and investors',\n",
       " 'Halifax man devastated after insurer reverses decision to cover $25K cystic fibrosis drug',\n",
       " 'Fired bureaucrat was ‘ringleader’ of group that took millions in government money, court hears',\n",
       " 'Toronto tops the world house price index',\n",
       " 'Ontario Big City Mayors Urge Justin Trudeau to Overturn CRTC Internet Ruling']"
      ]
     },
     "execution_count": 30,
     "metadata": {},
     "output_type": "execute_result"
    }
   ],
   "source": [
    "titles[:10]"
   ]
  },
  {
   "cell_type": "markdown",
   "metadata": {},
   "source": [
    "### SpaCy"
   ]
  },
  {
   "cell_type": "code",
   "execution_count": 4,
   "metadata": {},
   "outputs": [],
   "source": [
    "import spacy\n",
    "from spacy import displacy\n",
    "from collections import Counter\n",
    "import en_core_web_sm\n",
    "nlp = en_core_web_sm.load()"
   ]
  },
  {
   "cell_type": "code",
   "execution_count": 32,
   "metadata": {},
   "outputs": [],
   "source": [
    "def ner_spacy(title):\n",
    "    ner = nlp(title)\n",
    "    ner_list = [(X.text, X.label_) for X in ner.ents]\n",
    "    return ner_list"
   ]
  },
  {
   "cell_type": "code",
   "execution_count": 35,
   "metadata": {},
   "outputs": [],
   "source": [
    "title_entities = []\n",
    "for title in titles:\n",
    "    title_entities.append(ner_spacy(title))"
   ]
  },
  {
   "cell_type": "code",
   "execution_count": 44,
   "metadata": {},
   "outputs": [],
   "source": [
    "titles_df = pd.DataFrame(titles, columns = ['title'])\n",
    "titles_df['entities'] = title_entities"
   ]
  },
  {
   "cell_type": "code",
   "execution_count": 46,
   "metadata": {},
   "outputs": [
    {
     "data": {
      "text/html": [
       "<div>\n",
       "<style scoped>\n",
       "    .dataframe tbody tr th:only-of-type {\n",
       "        vertical-align: middle;\n",
       "    }\n",
       "\n",
       "    .dataframe tbody tr th {\n",
       "        vertical-align: top;\n",
       "    }\n",
       "\n",
       "    .dataframe thead th {\n",
       "        text-align: right;\n",
       "    }\n",
       "</style>\n",
       "<table border=\"1\" class=\"dataframe\">\n",
       "  <thead>\n",
       "    <tr style=\"text-align: right;\">\n",
       "      <th></th>\n",
       "      <th>title</th>\n",
       "      <th>entities</th>\n",
       "    </tr>\n",
       "  </thead>\n",
       "  <tbody>\n",
       "    <tr>\n",
       "      <th>0</th>\n",
       "      <td>COVID-19 Health &amp; Support Megathread #9 - REMI...</td>\n",
       "      <td>[(COVID-19 Health &amp; Support Megathread, ORG)]</td>\n",
       "    </tr>\n",
       "    <tr>\n",
       "      <th>1</th>\n",
       "      <td>Federal government to require vaccinations for...</td>\n",
       "      <td>[(CBC News, ORG)]</td>\n",
       "    </tr>\n",
       "    <tr>\n",
       "      <th>2</th>\n",
       "      <td>Ivison: Trudeau's about to call an election wi...</td>\n",
       "      <td>[(Trudeau, PERSON)]</td>\n",
       "    </tr>\n",
       "    <tr>\n",
       "      <th>3</th>\n",
       "      <td>I'm not an anti-vaxxer, I'm just refusing to g...</td>\n",
       "      <td>[]</td>\n",
       "    </tr>\n",
       "    <tr>\n",
       "      <th>4</th>\n",
       "      <td>We are not anti-vaxxers': Concerns over side-e...</td>\n",
       "      <td>[(Canadians, NORP), (COVID-19, PRODUCT)]</td>\n",
       "    </tr>\n",
       "    <tr>\n",
       "      <th>5</th>\n",
       "      <td>Real estate: low-income condos bought by docto...</td>\n",
       "      <td>[]</td>\n",
       "    </tr>\n",
       "    <tr>\n",
       "      <th>6</th>\n",
       "      <td>Halifax man devastated after insurer reverses ...</td>\n",
       "      <td>[(25K, PERSON)]</td>\n",
       "    </tr>\n",
       "    <tr>\n",
       "      <th>7</th>\n",
       "      <td>Fired bureaucrat was ‘ringleader’ of group tha...</td>\n",
       "      <td>[(millions, CARDINAL)]</td>\n",
       "    </tr>\n",
       "    <tr>\n",
       "      <th>8</th>\n",
       "      <td>Toronto tops the world house price index</td>\n",
       "      <td>[(Toronto, GPE)]</td>\n",
       "    </tr>\n",
       "    <tr>\n",
       "      <th>9</th>\n",
       "      <td>Ontario Big City Mayors Urge Justin Trudeau to...</td>\n",
       "      <td>[(Justin Trudeau, PERSON)]</td>\n",
       "    </tr>\n",
       "  </tbody>\n",
       "</table>\n",
       "</div>"
      ],
      "text/plain": [
       "                                               title  \\\n",
       "0  COVID-19 Health & Support Megathread #9 - REMI...   \n",
       "1  Federal government to require vaccinations for...   \n",
       "2  Ivison: Trudeau's about to call an election wi...   \n",
       "3  I'm not an anti-vaxxer, I'm just refusing to g...   \n",
       "4  We are not anti-vaxxers': Concerns over side-e...   \n",
       "5  Real estate: low-income condos bought by docto...   \n",
       "6  Halifax man devastated after insurer reverses ...   \n",
       "7  Fired bureaucrat was ‘ringleader’ of group tha...   \n",
       "8           Toronto tops the world house price index   \n",
       "9  Ontario Big City Mayors Urge Justin Trudeau to...   \n",
       "\n",
       "                                        entities  \n",
       "0  [(COVID-19 Health & Support Megathread, ORG)]  \n",
       "1                              [(CBC News, ORG)]  \n",
       "2                            [(Trudeau, PERSON)]  \n",
       "3                                             []  \n",
       "4       [(Canadians, NORP), (COVID-19, PRODUCT)]  \n",
       "5                                             []  \n",
       "6                                [(25K, PERSON)]  \n",
       "7                         [(millions, CARDINAL)]  \n",
       "8                               [(Toronto, GPE)]  \n",
       "9                     [(Justin Trudeau, PERSON)]  "
      ]
     },
     "execution_count": 46,
     "metadata": {},
     "output_type": "execute_result"
    }
   ],
   "source": [
    "titles_df.head(10)"
   ]
  }
 ],
 "metadata": {
  "kernelspec": {
   "display_name": "Python 3",
   "language": "python",
   "name": "python3"
  },
  "language_info": {
   "codemirror_mode": {
    "name": "ipython",
    "version": 3
   },
   "file_extension": ".py",
   "mimetype": "text/x-python",
   "name": "python",
   "nbconvert_exporter": "python",
   "pygments_lexer": "ipython3",
   "version": "3.8.3"
  }
 },
 "nbformat": 4,
 "nbformat_minor": 4
}
