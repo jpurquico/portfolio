{
 "cells": [
  {
   "cell_type": "markdown",
   "metadata": {},
   "source": [
    "## Collecting Yelp Reviews using Scrapy (In Progress)"
   ]
  },
  {
   "cell_type": "code",
   "execution_count": null,
   "metadata": {},
   "outputs": [],
   "source": [
    "#!pip install scrapy"
   ]
  },
  {
   "cell_type": "markdown",
   "metadata": {},
   "source": [
    "Import necessary libraries"
   ]
  },
  {
   "cell_type": "code",
   "execution_count": 1,
   "metadata": {},
   "outputs": [],
   "source": [
    "import scrapy\n",
    "from scrapy.crawler import CrawlerProcess"
   ]
  },
  {
   "cell_type": "markdown",
   "metadata": {},
   "source": [
    "Create a spider class"
   ]
  },
  {
   "cell_type": "code",
   "execution_count": 2,
   "metadata": {},
   "outputs": [],
   "source": [
    "## Create Spider\n",
    "\n",
    "class yelp_review_spider(scrapy.Spider):\n",
    "    name = 'yelp_review_spider'\n",
    "    # start_requests method\n",
    "    def start_requests(self):\n",
    "        url = \"https://www.yelp.ca/search?find_desc=vegan&find_loc=Vancouver%2C+BC&ns=1\"\n",
    "        yield scrapy.Request(url = url, callback = self.parse_front)\n",
    "        \n",
    "    # parse front page site\n",
    "    def parse_front(self, response):\n",
    "        resto_links = response.xpath(\"//a[contains(@class, 'css-1422juy')]/@href\").extract()\n",
    "        for link in resto_links:\n",
    "            yield response.follow(url = link, callback = self.parse_pages)\n",
    "            \n",
    "    # parse other pages\n",
    "    def parse_pages(self, response):\n",
    "        resto_name = response.xpath(\"//h1[contains(@class, 'css-1x9iesk')]/text()\")\n",
    "        resto_name_ext = resto_name.extract_first().strip()\n",
    "        review_p = response.css(\"p.comment__09f24__gu0rG.css-1sufhje\")\n",
    "        review_span = review_p.css(\"span.raw__09f24__T4Ezm\")  \n",
    "        review_list = review_span.extract()\n",
    "        reviews_dict[resto_name_ext]['review'] = review_list\n",
    "        \n",
    "        #response.replace(body=response.body.replace(b'<br>', b'\\n'))\n",
    "        \n",
    "        ## add authors, date published, rating\n",
    "        '''\n",
    "        author_div = response.xpath('//div[contains(@class, \"user-\")]')\n",
    "        authors = author_div.css(\"a.css-1422juy::text\")\n",
    "        authors_list = authors.extract()\n",
    "        reviews_dict[resto_name_ext]['author'] = [author for author in authors_list]\n",
    "        \n",
    "        dates = response.css(\"span.css-1e4fdj9::text\")\n",
    "        dates_list = dates.extract()\n",
    "        reviews_dict[resto_name_ext]['date'] = [date for date in dates_list]\n",
    "        \n",
    "        ratings = response.css(\"//div[contains(@class, 'i-stars__09f24__foihJ.i-stars--regular')]/@aria-label\")\n",
    "        ratings_list = ratings.extract()\n",
    "        reviews_dict[resto_name_ext]['rating'] = [rating for rating in ratings_list]\n",
    "        '''\n",
    "        \n",
    "        "
   ]
  },
  {
   "cell_type": "code",
   "execution_count": 3,
   "metadata": {},
   "outputs": [],
   "source": [
    "from collections import defaultdict\n",
    "reviews_dict = defaultdict(dict)"
   ]
  },
  {
   "cell_type": "code",
   "execution_count": 4,
   "metadata": {},
   "outputs": [
    {
     "name": "stderr",
     "output_type": "stream",
     "text": [
      "2022-01-17 22:07:46 [scrapy.utils.log] INFO: Scrapy 2.5.1 started (bot: scrapybot)\n",
      "2022-01-17 22:07:46 [scrapy.utils.log] INFO: Versions: lxml 4.6.2.0, libxml2 2.9.5, cssselect 1.1.0, parsel 1.6.0, w3lib 1.22.0, Twisted 21.7.0, Python 3.8.3 (default, May 19 2020, 06:50:17) [MSC v.1916 64 bit (AMD64)], pyOpenSSL 19.1.0 (OpenSSL 1.1.1j  16 Feb 2021), cryptography 2.9.2, Platform Windows-10-10.0.18362-SP0\n",
      "2022-01-17 22:07:46 [scrapy.utils.log] DEBUG: Using reactor: twisted.internet.selectreactor.SelectReactor\n",
      "2022-01-17 22:07:46 [scrapy.crawler] INFO: Overridden settings:\n",
      "{}\n",
      "2022-01-17 22:07:46 [scrapy.extensions.telnet] INFO: Telnet Password: 8b66e7870d458635\n",
      "2022-01-17 22:07:46 [scrapy.middleware] INFO: Enabled extensions:\n",
      "['scrapy.extensions.corestats.CoreStats',\n",
      " 'scrapy.extensions.telnet.TelnetConsole',\n",
      " 'scrapy.extensions.logstats.LogStats']\n",
      "2022-01-17 22:07:46 [scrapy.middleware] INFO: Enabled downloader middlewares:\n",
      "['scrapy.downloadermiddlewares.httpauth.HttpAuthMiddleware',\n",
      " 'scrapy.downloadermiddlewares.downloadtimeout.DownloadTimeoutMiddleware',\n",
      " 'scrapy.downloadermiddlewares.defaultheaders.DefaultHeadersMiddleware',\n",
      " 'scrapy.downloadermiddlewares.useragent.UserAgentMiddleware',\n",
      " 'scrapy.downloadermiddlewares.retry.RetryMiddleware',\n",
      " 'scrapy.downloadermiddlewares.redirect.MetaRefreshMiddleware',\n",
      " 'scrapy.downloadermiddlewares.httpcompression.HttpCompressionMiddleware',\n",
      " 'scrapy.downloadermiddlewares.redirect.RedirectMiddleware',\n",
      " 'scrapy.downloadermiddlewares.cookies.CookiesMiddleware',\n",
      " 'scrapy.downloadermiddlewares.httpproxy.HttpProxyMiddleware',\n",
      " 'scrapy.downloadermiddlewares.stats.DownloaderStats']\n",
      "2022-01-17 22:07:46 [scrapy.middleware] INFO: Enabled spider middlewares:\n",
      "['scrapy.spidermiddlewares.httperror.HttpErrorMiddleware',\n",
      " 'scrapy.spidermiddlewares.offsite.OffsiteMiddleware',\n",
      " 'scrapy.spidermiddlewares.referer.RefererMiddleware',\n",
      " 'scrapy.spidermiddlewares.urllength.UrlLengthMiddleware',\n",
      " 'scrapy.spidermiddlewares.depth.DepthMiddleware']\n",
      "2022-01-17 22:07:46 [scrapy.middleware] INFO: Enabled item pipelines:\n",
      "[]\n",
      "2022-01-17 22:07:46 [scrapy.core.engine] INFO: Spider opened\n",
      "2022-01-17 22:07:46 [scrapy.extensions.logstats] INFO: Crawled 0 pages (at 0 pages/min), scraped 0 items (at 0 items/min)\n",
      "2022-01-17 22:07:46 [scrapy.extensions.telnet] INFO: Telnet console listening on 127.0.0.1:6023\n",
      "2022-01-17 22:07:48 [scrapy.core.engine] DEBUG: Crawled (200) <GET https://www.yelp.ca/search?find_desc=vegan&find_loc=Vancouver%2C+BC&ns=1> (referer: None)\n",
      "2022-01-17 22:07:49 [scrapy.core.engine] DEBUG: Crawled (200) <GET https://www.yelp.ca/search?find_loc=Vancouver%2C+BC> (referer: https://www.yelp.ca/search?find_desc=vegan&find_loc=Vancouver%2C+BC&ns=1)\n",
      "2022-01-17 22:07:49 [scrapy.core.scraper] ERROR: Spider error processing <GET https://www.yelp.ca/search?find_loc=Vancouver%2C+BC> (referer: https://www.yelp.ca/search?find_desc=vegan&find_loc=Vancouver%2C+BC&ns=1)\n",
      "Traceback (most recent call last):\n",
      "  File \"C:\\Users\\Jan\\miniconda3\\lib\\site-packages\\twisted\\internet\\defer.py\", line 858, in _runCallbacks\n",
      "    current.result = callback(  # type: ignore[misc]\n",
      "  File \"<ipython-input-2-af88fd3a089a>\", line 19, in parse_pages\n",
      "    resto_name_ext = resto_name.extract_first().strip()\n",
      "AttributeError: 'NoneType' object has no attribute 'strip'\n",
      "2022-01-17 22:07:50 [scrapy.core.engine] DEBUG: Crawled (200) <GET https://www.yelp.ca/biz/torn-vancouver?osq=vegan> (referer: https://www.yelp.ca/search?find_desc=vegan&find_loc=Vancouver%2C+BC&ns=1)\n",
      "2022-01-17 22:07:50 [scrapy.core.engine] DEBUG: Crawled (200) <GET https://www.yelp.ca/biz/lotus-seed-vegan-vancouver?osq=vegan> (referer: https://www.yelp.ca/search?find_desc=vegan&find_loc=Vancouver%2C+BC&ns=1)\n",
      "2022-01-17 22:07:51 [scrapy.core.engine] DEBUG: Crawled (200) <GET https://www.yelp.ca/biz/ofra-s-kitchen-vancouver?osq=vegan> (referer: https://www.yelp.ca/search?find_desc=vegan&find_loc=Vancouver%2C+BC&ns=1)\n",
      "2022-01-17 22:07:51 [scrapy.core.engine] DEBUG: Crawled (200) <GET https://www.yelp.ca/biz/beetbox-vancouver?osq=vegan> (referer: https://www.yelp.ca/search?find_desc=vegan&find_loc=Vancouver%2C+BC&ns=1)\n",
      "2022-01-17 22:07:51 [scrapy.core.engine] DEBUG: Crawled (200) <GET https://www.yelp.ca/biz/forage-vancouver?osq=vegan> (referer: https://www.yelp.ca/search?find_desc=vegan&find_loc=Vancouver%2C+BC&ns=1)\n",
      "2022-01-17 22:07:51 [scrapy.core.engine] DEBUG: Crawled (200) <GET https://www.yelp.ca/biz/meet-in-gastown-vancouver?osq=vegan> (referer: https://www.yelp.ca/search?find_desc=vegan&find_loc=Vancouver%2C+BC&ns=1)\n",
      "2022-01-17 22:07:52 [scrapy.core.engine] DEBUG: Crawled (200) <GET https://www.yelp.ca/biz/vegan-cave-cafe-vancouver?osq=vegan> (referer: https://www.yelp.ca/search?find_desc=vegan&find_loc=Vancouver%2C+BC&ns=1)\n",
      "2022-01-17 22:07:52 [scrapy.core.engine] DEBUG: Crawled (200) <GET https://www.yelp.ca/biz/do-chay-vancouver-2?osq=vegan> (referer: https://www.yelp.ca/search?find_desc=vegan&find_loc=Vancouver%2C+BC&ns=1)\n",
      "2022-01-17 22:07:52 [scrapy.core.engine] DEBUG: Crawled (200) <GET https://www.yelp.ca/search?find_desc=vegan&find_loc=Vancouver%2C+BC> (referer: https://www.yelp.ca/search?find_desc=vegan&find_loc=Vancouver%2C+BC&ns=1)\n",
      "2022-01-17 22:07:52 [scrapy.core.engine] DEBUG: Crawled (200) <GET https://www.yelp.ca/search?cflt=restaurants&find_loc=Vancouver%2C+BC> (referer: https://www.yelp.ca/search?find_desc=vegan&find_loc=Vancouver%2C+BC&ns=1)\n",
      "2022-01-17 22:07:52 [scrapy.core.scraper] ERROR: Spider error processing <GET https://www.yelp.ca/search?find_desc=vegan&find_loc=Vancouver%2C+BC> (referer: https://www.yelp.ca/search?find_desc=vegan&find_loc=Vancouver%2C+BC&ns=1)\n",
      "Traceback (most recent call last):\n",
      "  File \"C:\\Users\\Jan\\miniconda3\\lib\\site-packages\\twisted\\internet\\defer.py\", line 858, in _runCallbacks\n",
      "    current.result = callback(  # type: ignore[misc]\n",
      "  File \"<ipython-input-2-af88fd3a089a>\", line 19, in parse_pages\n",
      "    resto_name_ext = resto_name.extract_first().strip()\n",
      "AttributeError: 'NoneType' object has no attribute 'strip'\n",
      "2022-01-17 22:07:52 [scrapy.core.scraper] ERROR: Spider error processing <GET https://www.yelp.ca/search?cflt=restaurants&find_loc=Vancouver%2C+BC> (referer: https://www.yelp.ca/search?find_desc=vegan&find_loc=Vancouver%2C+BC&ns=1)\n",
      "Traceback (most recent call last):\n",
      "  File \"C:\\Users\\Jan\\miniconda3\\lib\\site-packages\\twisted\\internet\\defer.py\", line 858, in _runCallbacks\n",
      "    current.result = callback(  # type: ignore[misc]\n",
      "  File \"<ipython-input-2-af88fd3a089a>\", line 19, in parse_pages\n",
      "    resto_name_ext = resto_name.extract_first().strip()\n",
      "AttributeError: 'NoneType' object has no attribute 'strip'\n",
      "2022-01-17 22:07:52 [scrapy.core.engine] DEBUG: Crawled (200) <GET https://www.yelp.ca/biz/plant-me-vancouver-2?osq=vegan> (referer: https://www.yelp.ca/search?find_desc=vegan&find_loc=Vancouver%2C+BC&ns=1)\n",
      "2022-01-17 22:07:54 [scrapy.core.engine] DEBUG: Crawled (200) <GET https://www.yelp.ca/biz/mila-plant-based-vancouver?osq=vegan> (referer: https://www.yelp.ca/search?find_desc=vegan&find_loc=Vancouver%2C+BC&ns=1)\n",
      "2022-01-17 22:07:54 [scrapy.core.engine] INFO: Closing spider (finished)\n",
      "2022-01-17 22:07:54 [scrapy.statscollectors] INFO: Dumping Scrapy stats:\n",
      "{'downloader/request_bytes': 18863,\n",
      " 'downloader/request_count': 14,\n",
      " 'downloader/request_method_count/GET': 14,\n",
      " 'downloader/response_bytes': 1458715,\n",
      " 'downloader/response_count': 14,\n",
      " 'downloader/response_status_count/200': 14,\n",
      " 'elapsed_time_seconds': 8.356802,\n",
      " 'finish_reason': 'finished',\n",
      " 'finish_time': datetime.datetime(2022, 1, 18, 6, 7, 54, 921566),\n",
      " 'httpcompression/response_bytes': 10447164,\n",
      " 'httpcompression/response_count': 14,\n",
      " 'log_count/DEBUG': 14,\n",
      " 'log_count/ERROR': 3,\n",
      " 'log_count/INFO': 10,\n",
      " 'request_depth_max': 1,\n",
      " 'response_received_count': 14,\n",
      " 'scheduler/dequeued': 14,\n",
      " 'scheduler/dequeued/memory': 14,\n",
      " 'scheduler/enqueued': 14,\n",
      " 'scheduler/enqueued/memory': 14,\n",
      " 'spider_exceptions/AttributeError': 3,\n",
      " 'start_time': datetime.datetime(2022, 1, 18, 6, 7, 46, 564764)}\n",
      "2022-01-17 22:07:54 [scrapy.core.engine] INFO: Spider closed (finished)\n"
     ]
    }
   ],
   "source": [
    "process = CrawlerProcess()\n",
    "process.crawl(yelp_review_spider)\n",
    "process.start()"
   ]
  },
  {
   "cell_type": "code",
   "execution_count": 11,
   "metadata": {},
   "outputs": [
    {
     "data": {
      "text/plain": [
       "'<span class=\" raw__09f24__T4Ezm\" lang=\"en\">It starts with a mission. \\xa0\"MeeT\\'s mission is to help transition the mainstream to eating more plant-based foods in a friendly, accepting and engaging venue\" (from their website). \\xa0Not only that, but they also aim to show people that comfort food that connects and nourishes us can be vegetarian/vegan, delicious, made from scratch, and can actually be quite affordable! \\xa0Hands in the air for all those positive vibes!<br><br>My hubby and I (both vegetarian/plant-based, often vegan, and work in the health &amp; fitness industry) first discovered MeeT late summer 2019. \\xa0We were in town for a half marathon, and after a long travel day, we wanted/needed something nutritious, fresh and delicious, and to dine in a place with a fun and inviting atmosphere. \\xa0We pretty much hit the jackpot here at MeeT in Gastown!<br><br>Here\\'s what we ordered and would recommend over and over again:<br>1. The Big Yum<br>2. Organic Quinoa &amp; Roasted Yam Salad<br>3. Hoochy Booch Turmeric Ginger Black Pepper Kombucha<br>4. House-made Ginger Shrub Beer<br><br>Even if you\\'re not necessarily vegetarian or vegan, you should give this place a try. \\xa0I doubt you\\'ll be disappointed! \\xa0In fact, you may just be converted! ;)<br><br>We loved the food, bevy, service, and ambiance so much, we came back again on our last night in town with a couple friends! \\xa0And we still talk about The Big Yum Bowl to this day...</span>'"
      ]
     },
     "execution_count": 11,
     "metadata": {},
     "output_type": "execute_result"
    }
   ],
   "source": [
    "reviews_dict['MeeT in Gastown']['review'][-1]"
   ]
  },
  {
   "cell_type": "code",
   "execution_count": null,
   "metadata": {},
   "outputs": [],
   "source": []
  }
 ],
 "metadata": {
  "kernelspec": {
   "display_name": "Python 3",
   "language": "python",
   "name": "python3"
  },
  "language_info": {
   "codemirror_mode": {
    "name": "ipython",
    "version": 3
   },
   "file_extension": ".py",
   "mimetype": "text/x-python",
   "name": "python",
   "nbconvert_exporter": "python",
   "pygments_lexer": "ipython3",
   "version": "3.8.3"
  }
 },
 "nbformat": 4,
 "nbformat_minor": 4
}
